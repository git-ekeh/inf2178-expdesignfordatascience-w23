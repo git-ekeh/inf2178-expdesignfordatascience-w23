{
  "nbformat": 4,
  "nbformat_minor": 0,
  "metadata": {
    "colab": {
      "provenance": []
    },
    "kernelspec": {
      "name": "python3",
      "display_name": "Python 3"
    },
    "language_info": {
      "name": "python"
    }
  },
  "cells": [
    {
      "cell_type": "markdown",
      "source": [
        "2178 midterm assignment coding part by Group 22. The colab link is https://colab.research.google.com/drive/1VBHVnd34YHA5lCozSIr5d587Ii8r4UBt?usp=sharing Note: if you can't see diagrams directly, please reload and run import part code."
      ],
      "metadata": {
        "id": "4R7CGFfAX3vb"
      }
    },
    {
      "cell_type": "code",
      "execution_count": 67,
      "metadata": {
        "colab": {
          "base_uri": "https://localhost:8080/"
        },
        "id": "Vbfa9h_BISHp",
        "outputId": "fed5fdf6-eda1-4ace-a59a-0daebf7772c4"
      },
      "outputs": [
        {
          "output_type": "stream",
          "name": "stdout",
          "text": [
            "<re.Match object; span=(35, 36), match='x'>\n",
            "Looking in indexes: https://pypi.org/simple, https://us-python.pkg.dev/colab-wheels/public/simple/\n",
            "Requirement already satisfied: scikit_posthocs in /usr/local/lib/python3.9/dist-packages (0.7.0)\n",
            "Requirement already satisfied: numpy in /usr/local/lib/python3.9/dist-packages (from scikit_posthocs) (1.22.4)\n",
            "Requirement already satisfied: statsmodels in /usr/local/lib/python3.9/dist-packages (from scikit_posthocs) (0.13.5)\n",
            "Requirement already satisfied: pandas>=0.20.0 in /usr/local/lib/python3.9/dist-packages (from scikit_posthocs) (1.5.3)\n",
            "Requirement already satisfied: matplotlib in /usr/local/lib/python3.9/dist-packages (from scikit_posthocs) (3.7.1)\n",
            "Requirement already satisfied: scipy in /usr/local/lib/python3.9/dist-packages (from scikit_posthocs) (1.10.1)\n",
            "Requirement already satisfied: seaborn in /usr/local/lib/python3.9/dist-packages (from scikit_posthocs) (0.12.2)\n",
            "Requirement already satisfied: pytz>=2020.1 in /usr/local/lib/python3.9/dist-packages (from pandas>=0.20.0->scikit_posthocs) (2022.7.1)\n",
            "Requirement already satisfied: python-dateutil>=2.8.1 in /usr/local/lib/python3.9/dist-packages (from pandas>=0.20.0->scikit_posthocs) (2.8.2)\n",
            "Requirement already satisfied: fonttools>=4.22.0 in /usr/local/lib/python3.9/dist-packages (from matplotlib->scikit_posthocs) (4.39.3)\n",
            "Requirement already satisfied: importlib-resources>=3.2.0 in /usr/local/lib/python3.9/dist-packages (from matplotlib->scikit_posthocs) (5.12.0)\n",
            "Requirement already satisfied: pillow>=6.2.0 in /usr/local/lib/python3.9/dist-packages (from matplotlib->scikit_posthocs) (8.4.0)\n",
            "Requirement already satisfied: cycler>=0.10 in /usr/local/lib/python3.9/dist-packages (from matplotlib->scikit_posthocs) (0.11.0)\n",
            "Requirement already satisfied: contourpy>=1.0.1 in /usr/local/lib/python3.9/dist-packages (from matplotlib->scikit_posthocs) (1.0.7)\n",
            "Requirement already satisfied: pyparsing>=2.3.1 in /usr/local/lib/python3.9/dist-packages (from matplotlib->scikit_posthocs) (3.0.9)\n",
            "Requirement already satisfied: kiwisolver>=1.0.1 in /usr/local/lib/python3.9/dist-packages (from matplotlib->scikit_posthocs) (1.4.4)\n",
            "Requirement already satisfied: packaging>=20.0 in /usr/local/lib/python3.9/dist-packages (from matplotlib->scikit_posthocs) (23.0)\n",
            "Requirement already satisfied: patsy>=0.5.2 in /usr/local/lib/python3.9/dist-packages (from statsmodels->scikit_posthocs) (0.5.3)\n",
            "Requirement already satisfied: zipp>=3.1.0 in /usr/local/lib/python3.9/dist-packages (from importlib-resources>=3.2.0->matplotlib->scikit_posthocs) (3.15.0)\n",
            "Requirement already satisfied: six in /usr/local/lib/python3.9/dist-packages (from patsy>=0.5.2->statsmodels->scikit_posthocs) (1.16.0)\n",
            "Looking in indexes: https://pypi.org/simple, https://us-python.pkg.dev/colab-wheels/public/simple/\n",
            "Requirement already satisfied: pingouin in /usr/local/lib/python3.9/dist-packages (0.5.3)\n",
            "Requirement already satisfied: seaborn>=0.11 in /usr/local/lib/python3.9/dist-packages (from pingouin) (0.12.2)\n",
            "Requirement already satisfied: scipy>=1.7 in /usr/local/lib/python3.9/dist-packages (from pingouin) (1.10.1)\n",
            "Requirement already satisfied: pandas-flavor>=0.2.0 in /usr/local/lib/python3.9/dist-packages (from pingouin) (0.5.0)\n",
            "Requirement already satisfied: statsmodels>=0.13 in /usr/local/lib/python3.9/dist-packages (from pingouin) (0.13.5)\n",
            "Requirement already satisfied: outdated in /usr/local/lib/python3.9/dist-packages (from pingouin) (0.2.2)\n",
            "Requirement already satisfied: tabulate in /usr/local/lib/python3.9/dist-packages (from pingouin) (0.8.10)\n",
            "Requirement already satisfied: pandas>=1.0 in /usr/local/lib/python3.9/dist-packages (from pingouin) (1.5.3)\n",
            "Requirement already satisfied: numpy>=1.19 in /usr/local/lib/python3.9/dist-packages (from pingouin) (1.22.4)\n",
            "Requirement already satisfied: matplotlib>=3.0.2 in /usr/local/lib/python3.9/dist-packages (from pingouin) (3.7.1)\n",
            "Requirement already satisfied: scikit-learn in /usr/local/lib/python3.9/dist-packages (from pingouin) (1.2.2)\n",
            "Requirement already satisfied: cycler>=0.10 in /usr/local/lib/python3.9/dist-packages (from matplotlib>=3.0.2->pingouin) (0.11.0)\n",
            "Requirement already satisfied: importlib-resources>=3.2.0 in /usr/local/lib/python3.9/dist-packages (from matplotlib>=3.0.2->pingouin) (5.12.0)\n",
            "Requirement already satisfied: pillow>=6.2.0 in /usr/local/lib/python3.9/dist-packages (from matplotlib>=3.0.2->pingouin) (8.4.0)\n",
            "Requirement already satisfied: fonttools>=4.22.0 in /usr/local/lib/python3.9/dist-packages (from matplotlib>=3.0.2->pingouin) (4.39.3)\n",
            "Requirement already satisfied: contourpy>=1.0.1 in /usr/local/lib/python3.9/dist-packages (from matplotlib>=3.0.2->pingouin) (1.0.7)\n",
            "Requirement already satisfied: pyparsing>=2.3.1 in /usr/local/lib/python3.9/dist-packages (from matplotlib>=3.0.2->pingouin) (3.0.9)\n",
            "Requirement already satisfied: python-dateutil>=2.7 in /usr/local/lib/python3.9/dist-packages (from matplotlib>=3.0.2->pingouin) (2.8.2)\n",
            "Requirement already satisfied: kiwisolver>=1.0.1 in /usr/local/lib/python3.9/dist-packages (from matplotlib>=3.0.2->pingouin) (1.4.4)\n",
            "Requirement already satisfied: packaging>=20.0 in /usr/local/lib/python3.9/dist-packages (from matplotlib>=3.0.2->pingouin) (23.0)\n",
            "Requirement already satisfied: pytz>=2020.1 in /usr/local/lib/python3.9/dist-packages (from pandas>=1.0->pingouin) (2022.7.1)\n",
            "Requirement already satisfied: lazy-loader>=0.1 in /usr/local/lib/python3.9/dist-packages (from pandas-flavor>=0.2.0->pingouin) (0.2)\n",
            "Requirement already satisfied: xarray in /usr/local/lib/python3.9/dist-packages (from pandas-flavor>=0.2.0->pingouin) (2022.12.0)\n",
            "Requirement already satisfied: patsy>=0.5.2 in /usr/local/lib/python3.9/dist-packages (from statsmodels>=0.13->pingouin) (0.5.3)\n",
            "Requirement already satisfied: requests in /usr/local/lib/python3.9/dist-packages (from outdated->pingouin) (2.27.1)\n",
            "Requirement already satisfied: setuptools>=44 in /usr/local/lib/python3.9/dist-packages (from outdated->pingouin) (67.6.1)\n",
            "Requirement already satisfied: littleutils in /usr/local/lib/python3.9/dist-packages (from outdated->pingouin) (0.2.2)\n",
            "Requirement already satisfied: threadpoolctl>=2.0.0 in /usr/local/lib/python3.9/dist-packages (from scikit-learn->pingouin) (3.1.0)\n",
            "Requirement already satisfied: joblib>=1.1.1 in /usr/local/lib/python3.9/dist-packages (from scikit-learn->pingouin) (1.2.0)\n",
            "Requirement already satisfied: zipp>=3.1.0 in /usr/local/lib/python3.9/dist-packages (from importlib-resources>=3.2.0->matplotlib>=3.0.2->pingouin) (3.15.0)\n",
            "Requirement already satisfied: six in /usr/local/lib/python3.9/dist-packages (from patsy>=0.5.2->statsmodels>=0.13->pingouin) (1.16.0)\n",
            "Requirement already satisfied: urllib3<1.27,>=1.21.1 in /usr/local/lib/python3.9/dist-packages (from requests->outdated->pingouin) (1.26.15)\n",
            "Requirement already satisfied: idna<4,>=2.5 in /usr/local/lib/python3.9/dist-packages (from requests->outdated->pingouin) (3.4)\n",
            "Requirement already satisfied: certifi>=2017.4.17 in /usr/local/lib/python3.9/dist-packages (from requests->outdated->pingouin) (2022.12.7)\n",
            "Requirement already satisfied: charset-normalizer~=2.0.0 in /usr/local/lib/python3.9/dist-packages (from requests->outdated->pingouin) (2.0.12)\n",
            "Looking in indexes: https://pypi.org/simple, https://us-python.pkg.dev/colab-wheels/public/simple/\n",
            "Requirement already satisfied: researchpy in /usr/local/lib/python3.9/dist-packages (0.3.5)\n",
            "Requirement already satisfied: statsmodels in /usr/local/lib/python3.9/dist-packages (from researchpy) (0.13.5)\n",
            "Requirement already satisfied: numpy in /usr/local/lib/python3.9/dist-packages (from researchpy) (1.22.4)\n",
            "Requirement already satisfied: scipy in /usr/local/lib/python3.9/dist-packages (from researchpy) (1.10.1)\n",
            "Requirement already satisfied: pandas in /usr/local/lib/python3.9/dist-packages (from researchpy) (1.5.3)\n",
            "Requirement already satisfied: patsy in /usr/local/lib/python3.9/dist-packages (from researchpy) (0.5.3)\n",
            "Requirement already satisfied: python-dateutil>=2.8.1 in /usr/local/lib/python3.9/dist-packages (from pandas->researchpy) (2.8.2)\n",
            "Requirement already satisfied: pytz>=2020.1 in /usr/local/lib/python3.9/dist-packages (from pandas->researchpy) (2022.7.1)\n",
            "Requirement already satisfied: six in /usr/local/lib/python3.9/dist-packages (from patsy->researchpy) (1.16.0)\n",
            "Requirement already satisfied: packaging>=21.3 in /usr/local/lib/python3.9/dist-packages (from statsmodels->researchpy) (23.0)\n"
          ]
        }
      ],
      "source": [
        "import pandas as pd\n",
        "import numpy as np\n",
        "import matplotlib.pyplot as plt\n",
        "import matplotlib\n",
        "import seaborn as sns\n",
        "%matplotlib inline \n",
        "import statsmodels\n",
        "from scipy import stats\n",
        "from scipy.stats import levene\n",
        "import scipy.stats\n",
        "import math\n",
        "import random\n",
        "import statistics\n",
        "import scipy.stats as sp\n",
        "from sklearn import linear_model\n",
        "import statsmodels.stats.api as sms\n",
        "from datascience import Table\n",
        "import re\n",
        "str= \"a long string for data science regex check\"\n",
        "ans = re.search(\"X\", str, re.IGNORECASE)\n",
        "print(ans)\n",
        "from scipy.stats import ttest_ind\n",
        "from statsmodels.stats.anova import AnovaRM\n",
        "from statsmodels.graphics.factorplots import interaction_plot\n",
        "from statsmodels.formula.api import ols\n",
        "import statsmodels.api as sm\n",
        "\n",
        "!pip install scikit_posthocs\n",
        "!pip install pingouin\n",
        "!pip install researchpy\n",
        "import researchpy as rp\n",
        "import pingouin as pg\n",
        "from statsmodels.stats.multicomp import pairwise_tukeyhsd\n",
        "from math import sqrt\n",
        "from statsmodels.stats.power import TTestIndPower\n",
        "from statsmodels.stats.power import TTestPower"
      ]
    },
    {
      "cell_type": "code",
      "source": [
        "def cleandata(midtermdata):\n",
        "  mydf = pd.read_csv('Arrests_and_Strip_Searches_(RBDC-ARR-TBL-001).csv')\n",
        "  mydf[['Arrest_Year', 'Arrest_Month', 'EventID', 'ArrestID','PersonID','Perceived_Race','Sex','Age_group__at_arrest_','Youth_at_arrest__under_18_years','ArrestLocDiv','StripSearch','Booked',\n",
        "        'Occurrence_Category','Actions_at_arrest___Concealed_i','Actions_at_arrest___Combative__','Actions_at_arrest___Resisted__d','Actions_at_arrest___Mental_inst','Actions_at_arrest___Assaulted_o','Actions_at_arrest___Cooperative','SearchReason_CauseInjury','SearchReason_AssistEscape','SearchReason_PossessWeapons','SearchReason_PossessEvidence','ItemsFound','ObjectId']]=mydf[['Arrest_Year', 'Arrest_Month', 'EventID', 'ArrestID','PersonID','Perceived_Race','Sex','Age_group__at_arrest_','Youth_at_arrest__under_18_years','ArrestLocDiv','StripSearch','Booked',\n",
        "        'Occurrence_Category','Actions_at_arrest___Concealed_i','Actions_at_arrest___Combative__','Actions_at_arrest___Resisted__d','Actions_at_arrest___Mental_inst','Actions_at_arrest___Assaulted_o','Actions_at_arrest___Cooperative','SearchReason_CauseInjury','SearchReason_AssistEscape','SearchReason_PossessWeapons','SearchReason_PossessEvidence','ItemsFound','ObjectId']].a\n",
        "                                            \n",
        "  mydf['Sex']=mydf['Sex'].astype('string')\n",
        "  return mydf"
      ],
      "metadata": {
        "id": "XuFajVAaIdGt"
      },
      "execution_count": 68,
      "outputs": []
    },
    {
      "cell_type": "markdown",
      "source": [
        "#Preprocessing"
      ],
      "metadata": {
        "id": "1H7CClMjBK2-"
      }
    },
    {
      "cell_type": "code",
      "source": [
        "dataset = pd.read_csv('/content/Arrests_and_Strip_Searches_(RBDC-ARR-TBL-001).csv')\n",
        "dataset.head()"
      ],
      "metadata": {
        "colab": {
          "base_uri": "https://localhost:8080/",
          "height": 317
        },
        "id": "u2XRL1_DNVQU",
        "outputId": "6a3e9f3f-a4ee-4d98-9f6e-0f497e224f01"
      },
      "execution_count": 69,
      "outputs": [
        {
          "output_type": "execute_result",
          "data": {
            "text/plain": [
              "   Arrest_Year Arrest_Month  EventID   ArrestID  PersonID     Perceived_Race  \\\n",
              "0         2020    July-Sept  1005907  6017884.0    326622              White   \n",
              "1         2020    July-Sept  1014562  6056669.0    326622              White   \n",
              "2         2020      Oct-Dec  1029922  6057065.0    326622  Unknown or Legacy   \n",
              "3         2021      Jan-Mar  1052190  6029059.0    327535              Black   \n",
              "4         2021      Jan-Mar  1015512  6040372.0    327535        South Asian   \n",
              "\n",
              "  Sex Age_group__at_arrest_ Youth_at_arrest__under_18_years ArrestLocDiv  ...  \\\n",
              "0   M   Aged 35 to 44 years                     Not a youth           54  ...   \n",
              "1   M   Aged 35 to 44 years                     Not a youth           54  ...   \n",
              "2   M   Aged 35 to 44 years                     Not a youth           54  ...   \n",
              "3   M   Aged 25 to 34 years                     Not a youth           XX  ...   \n",
              "4   M   Aged 25 to 34 years                     Not a youth           XX  ...   \n",
              "\n",
              "   Actions_at_arrest___Resisted__d  Actions_at_arrest___Mental_inst  \\\n",
              "0                                0                                0   \n",
              "1                                0                                0   \n",
              "2                                0                                0   \n",
              "3                                0                                0   \n",
              "4                                0                                0   \n",
              "\n",
              "  Actions_at_arrest___Assaulted_o  Actions_at_arrest___Cooperative  \\\n",
              "0                               0                                1   \n",
              "1                               0                                0   \n",
              "2                               0                                0   \n",
              "3                               0                                0   \n",
              "4                               0                                0   \n",
              "\n",
              "   SearchReason_CauseInjury  SearchReason_AssistEscape  \\\n",
              "0                       NaN                        NaN   \n",
              "1                       NaN                        NaN   \n",
              "2                       NaN                        NaN   \n",
              "3                       NaN                        NaN   \n",
              "4                       NaN                        NaN   \n",
              "\n",
              "   SearchReason_PossessWeapons  SearchReason_PossessEvidence  ItemsFound  \\\n",
              "0                          NaN                           NaN         NaN   \n",
              "1                          NaN                           NaN         NaN   \n",
              "2                          NaN                           NaN         NaN   \n",
              "3                          NaN                           NaN         NaN   \n",
              "4                          NaN                           NaN         NaN   \n",
              "\n",
              "   ObjectId  \n",
              "0         1  \n",
              "1         2  \n",
              "2         3  \n",
              "3         4  \n",
              "4         5  \n",
              "\n",
              "[5 rows x 25 columns]"
            ],
            "text/html": [
              "\n",
              "  <div id=\"df-55730411-fc2b-42af-b59a-10064af3cafb\">\n",
              "    <div class=\"colab-df-container\">\n",
              "      <div>\n",
              "<style scoped>\n",
              "    .dataframe tbody tr th:only-of-type {\n",
              "        vertical-align: middle;\n",
              "    }\n",
              "\n",
              "    .dataframe tbody tr th {\n",
              "        vertical-align: top;\n",
              "    }\n",
              "\n",
              "    .dataframe thead th {\n",
              "        text-align: right;\n",
              "    }\n",
              "</style>\n",
              "<table border=\"1\" class=\"dataframe\">\n",
              "  <thead>\n",
              "    <tr style=\"text-align: right;\">\n",
              "      <th></th>\n",
              "      <th>Arrest_Year</th>\n",
              "      <th>Arrest_Month</th>\n",
              "      <th>EventID</th>\n",
              "      <th>ArrestID</th>\n",
              "      <th>PersonID</th>\n",
              "      <th>Perceived_Race</th>\n",
              "      <th>Sex</th>\n",
              "      <th>Age_group__at_arrest_</th>\n",
              "      <th>Youth_at_arrest__under_18_years</th>\n",
              "      <th>ArrestLocDiv</th>\n",
              "      <th>...</th>\n",
              "      <th>Actions_at_arrest___Resisted__d</th>\n",
              "      <th>Actions_at_arrest___Mental_inst</th>\n",
              "      <th>Actions_at_arrest___Assaulted_o</th>\n",
              "      <th>Actions_at_arrest___Cooperative</th>\n",
              "      <th>SearchReason_CauseInjury</th>\n",
              "      <th>SearchReason_AssistEscape</th>\n",
              "      <th>SearchReason_PossessWeapons</th>\n",
              "      <th>SearchReason_PossessEvidence</th>\n",
              "      <th>ItemsFound</th>\n",
              "      <th>ObjectId</th>\n",
              "    </tr>\n",
              "  </thead>\n",
              "  <tbody>\n",
              "    <tr>\n",
              "      <th>0</th>\n",
              "      <td>2020</td>\n",
              "      <td>July-Sept</td>\n",
              "      <td>1005907</td>\n",
              "      <td>6017884.0</td>\n",
              "      <td>326622</td>\n",
              "      <td>White</td>\n",
              "      <td>M</td>\n",
              "      <td>Aged 35 to 44 years</td>\n",
              "      <td>Not a youth</td>\n",
              "      <td>54</td>\n",
              "      <td>...</td>\n",
              "      <td>0</td>\n",
              "      <td>0</td>\n",
              "      <td>0</td>\n",
              "      <td>1</td>\n",
              "      <td>NaN</td>\n",
              "      <td>NaN</td>\n",
              "      <td>NaN</td>\n",
              "      <td>NaN</td>\n",
              "      <td>NaN</td>\n",
              "      <td>1</td>\n",
              "    </tr>\n",
              "    <tr>\n",
              "      <th>1</th>\n",
              "      <td>2020</td>\n",
              "      <td>July-Sept</td>\n",
              "      <td>1014562</td>\n",
              "      <td>6056669.0</td>\n",
              "      <td>326622</td>\n",
              "      <td>White</td>\n",
              "      <td>M</td>\n",
              "      <td>Aged 35 to 44 years</td>\n",
              "      <td>Not a youth</td>\n",
              "      <td>54</td>\n",
              "      <td>...</td>\n",
              "      <td>0</td>\n",
              "      <td>0</td>\n",
              "      <td>0</td>\n",
              "      <td>0</td>\n",
              "      <td>NaN</td>\n",
              "      <td>NaN</td>\n",
              "      <td>NaN</td>\n",
              "      <td>NaN</td>\n",
              "      <td>NaN</td>\n",
              "      <td>2</td>\n",
              "    </tr>\n",
              "    <tr>\n",
              "      <th>2</th>\n",
              "      <td>2020</td>\n",
              "      <td>Oct-Dec</td>\n",
              "      <td>1029922</td>\n",
              "      <td>6057065.0</td>\n",
              "      <td>326622</td>\n",
              "      <td>Unknown or Legacy</td>\n",
              "      <td>M</td>\n",
              "      <td>Aged 35 to 44 years</td>\n",
              "      <td>Not a youth</td>\n",
              "      <td>54</td>\n",
              "      <td>...</td>\n",
              "      <td>0</td>\n",
              "      <td>0</td>\n",
              "      <td>0</td>\n",
              "      <td>0</td>\n",
              "      <td>NaN</td>\n",
              "      <td>NaN</td>\n",
              "      <td>NaN</td>\n",
              "      <td>NaN</td>\n",
              "      <td>NaN</td>\n",
              "      <td>3</td>\n",
              "    </tr>\n",
              "    <tr>\n",
              "      <th>3</th>\n",
              "      <td>2021</td>\n",
              "      <td>Jan-Mar</td>\n",
              "      <td>1052190</td>\n",
              "      <td>6029059.0</td>\n",
              "      <td>327535</td>\n",
              "      <td>Black</td>\n",
              "      <td>M</td>\n",
              "      <td>Aged 25 to 34 years</td>\n",
              "      <td>Not a youth</td>\n",
              "      <td>XX</td>\n",
              "      <td>...</td>\n",
              "      <td>0</td>\n",
              "      <td>0</td>\n",
              "      <td>0</td>\n",
              "      <td>0</td>\n",
              "      <td>NaN</td>\n",
              "      <td>NaN</td>\n",
              "      <td>NaN</td>\n",
              "      <td>NaN</td>\n",
              "      <td>NaN</td>\n",
              "      <td>4</td>\n",
              "    </tr>\n",
              "    <tr>\n",
              "      <th>4</th>\n",
              "      <td>2021</td>\n",
              "      <td>Jan-Mar</td>\n",
              "      <td>1015512</td>\n",
              "      <td>6040372.0</td>\n",
              "      <td>327535</td>\n",
              "      <td>South Asian</td>\n",
              "      <td>M</td>\n",
              "      <td>Aged 25 to 34 years</td>\n",
              "      <td>Not a youth</td>\n",
              "      <td>XX</td>\n",
              "      <td>...</td>\n",
              "      <td>0</td>\n",
              "      <td>0</td>\n",
              "      <td>0</td>\n",
              "      <td>0</td>\n",
              "      <td>NaN</td>\n",
              "      <td>NaN</td>\n",
              "      <td>NaN</td>\n",
              "      <td>NaN</td>\n",
              "      <td>NaN</td>\n",
              "      <td>5</td>\n",
              "    </tr>\n",
              "  </tbody>\n",
              "</table>\n",
              "<p>5 rows × 25 columns</p>\n",
              "</div>\n",
              "      <button class=\"colab-df-convert\" onclick=\"convertToInteractive('df-55730411-fc2b-42af-b59a-10064af3cafb')\"\n",
              "              title=\"Convert this dataframe to an interactive table.\"\n",
              "              style=\"display:none;\">\n",
              "        \n",
              "  <svg xmlns=\"http://www.w3.org/2000/svg\" height=\"24px\"viewBox=\"0 0 24 24\"\n",
              "       width=\"24px\">\n",
              "    <path d=\"M0 0h24v24H0V0z\" fill=\"none\"/>\n",
              "    <path d=\"M18.56 5.44l.94 2.06.94-2.06 2.06-.94-2.06-.94-.94-2.06-.94 2.06-2.06.94zm-11 1L8.5 8.5l.94-2.06 2.06-.94-2.06-.94L8.5 2.5l-.94 2.06-2.06.94zm10 10l.94 2.06.94-2.06 2.06-.94-2.06-.94-.94-2.06-.94 2.06-2.06.94z\"/><path d=\"M17.41 7.96l-1.37-1.37c-.4-.4-.92-.59-1.43-.59-.52 0-1.04.2-1.43.59L10.3 9.45l-7.72 7.72c-.78.78-.78 2.05 0 2.83L4 21.41c.39.39.9.59 1.41.59.51 0 1.02-.2 1.41-.59l7.78-7.78 2.81-2.81c.8-.78.8-2.07 0-2.86zM5.41 20L4 18.59l7.72-7.72 1.47 1.35L5.41 20z\"/>\n",
              "  </svg>\n",
              "      </button>\n",
              "      \n",
              "  <style>\n",
              "    .colab-df-container {\n",
              "      display:flex;\n",
              "      flex-wrap:wrap;\n",
              "      gap: 12px;\n",
              "    }\n",
              "\n",
              "    .colab-df-convert {\n",
              "      background-color: #E8F0FE;\n",
              "      border: none;\n",
              "      border-radius: 50%;\n",
              "      cursor: pointer;\n",
              "      display: none;\n",
              "      fill: #1967D2;\n",
              "      height: 32px;\n",
              "      padding: 0 0 0 0;\n",
              "      width: 32px;\n",
              "    }\n",
              "\n",
              "    .colab-df-convert:hover {\n",
              "      background-color: #E2EBFA;\n",
              "      box-shadow: 0px 1px 2px rgba(60, 64, 67, 0.3), 0px 1px 3px 1px rgba(60, 64, 67, 0.15);\n",
              "      fill: #174EA6;\n",
              "    }\n",
              "\n",
              "    [theme=dark] .colab-df-convert {\n",
              "      background-color: #3B4455;\n",
              "      fill: #D2E3FC;\n",
              "    }\n",
              "\n",
              "    [theme=dark] .colab-df-convert:hover {\n",
              "      background-color: #434B5C;\n",
              "      box-shadow: 0px 1px 3px 1px rgba(0, 0, 0, 0.15);\n",
              "      filter: drop-shadow(0px 1px 2px rgba(0, 0, 0, 0.3));\n",
              "      fill: #FFFFFF;\n",
              "    }\n",
              "  </style>\n",
              "\n",
              "      <script>\n",
              "        const buttonEl =\n",
              "          document.querySelector('#df-55730411-fc2b-42af-b59a-10064af3cafb button.colab-df-convert');\n",
              "        buttonEl.style.display =\n",
              "          google.colab.kernel.accessAllowed ? 'block' : 'none';\n",
              "\n",
              "        async function convertToInteractive(key) {\n",
              "          const element = document.querySelector('#df-55730411-fc2b-42af-b59a-10064af3cafb');\n",
              "          const dataTable =\n",
              "            await google.colab.kernel.invokeFunction('convertToInteractive',\n",
              "                                                     [key], {});\n",
              "          if (!dataTable) return;\n",
              "\n",
              "          const docLinkHtml = 'Like what you see? Visit the ' +\n",
              "            '<a target=\"_blank\" href=https://colab.research.google.com/notebooks/data_table.ipynb>data table notebook</a>'\n",
              "            + ' to learn more about interactive tables.';\n",
              "          element.innerHTML = '';\n",
              "          dataTable['output_type'] = 'display_data';\n",
              "          await google.colab.output.renderOutput(dataTable, element);\n",
              "          const docLink = document.createElement('div');\n",
              "          docLink.innerHTML = docLinkHtml;\n",
              "          element.appendChild(docLink);\n",
              "        }\n",
              "      </script>\n",
              "    </div>\n",
              "  </div>\n",
              "  "
            ]
          },
          "metadata": {},
          "execution_count": 69
        }
      ]
    },
    {
      "cell_type": "code",
      "source": [
        "dataset.shape"
      ],
      "metadata": {
        "colab": {
          "base_uri": "https://localhost:8080/"
        },
        "id": "vD7Kl5hBRQJz",
        "outputId": "b610554c-ff8c-4d2e-d2b6-aec2e9a1d463"
      },
      "execution_count": 70,
      "outputs": [
        {
          "output_type": "execute_result",
          "data": {
            "text/plain": [
              "(65276, 25)"
            ]
          },
          "metadata": {},
          "execution_count": 70
        }
      ]
    },
    {
      "cell_type": "code",
      "source": [
        "group = dataset.groupby('Actions_at_arrest___Mental_inst')\n",
        "print(group)\n",
        "group.size()"
      ],
      "metadata": {
        "colab": {
          "base_uri": "https://localhost:8080/"
        },
        "id": "uwi1QCiHShAJ",
        "outputId": "c0f12039-8c0d-4742-9397-2bacb6863dfa"
      },
      "execution_count": 71,
      "outputs": [
        {
          "output_type": "stream",
          "name": "stdout",
          "text": [
            "<pandas.core.groupby.generic.DataFrameGroupBy object at 0x7f1ee3683670>\n"
          ]
        },
        {
          "output_type": "execute_result",
          "data": {
            "text/plain": [
              "Actions_at_arrest___Mental_inst\n",
              "0    63097\n",
              "1     2179\n",
              "dtype: int64"
            ]
          },
          "metadata": {},
          "execution_count": 71
        }
      ]
    },
    {
      "cell_type": "code",
      "source": [
        "group1 = dataset.groupby('StripSearch')\n",
        "print(group1)\n",
        "group1.size()"
      ],
      "metadata": {
        "id": "4Q7DIo9RGdrb",
        "colab": {
          "base_uri": "https://localhost:8080/"
        },
        "outputId": "a6a6d231-5cb7-4689-99ae-e7eae5bec8c3"
      },
      "execution_count": 72,
      "outputs": [
        {
          "output_type": "stream",
          "name": "stdout",
          "text": [
            "<pandas.core.groupby.generic.DataFrameGroupBy object at 0x7f1ee3683a30>\n"
          ]
        },
        {
          "output_type": "execute_result",
          "data": {
            "text/plain": [
              "StripSearch\n",
              "0    57475\n",
              "1     7801\n",
              "dtype: int64"
            ]
          },
          "metadata": {},
          "execution_count": 72
        }
      ]
    },
    {
      "cell_type": "code",
      "source": [
        "dataset.groupby(by=['Actions_at_arrest___Mental_inst', 'Sex']).size()"
      ],
      "metadata": {
        "colab": {
          "base_uri": "https://localhost:8080/"
        },
        "id": "T58McauvS881",
        "outputId": "515a8136-d00f-4fd3-a698-418f06caca57"
      },
      "execution_count": 73,
      "outputs": [
        {
          "output_type": "execute_result",
          "data": {
            "text/plain": [
              "Actions_at_arrest___Mental_inst  Sex\n",
              "0                                F      12112\n",
              "                                 M      50978\n",
              "                                 U          7\n",
              "1                                F        505\n",
              "                                 M       1672\n",
              "                                 U          2\n",
              "dtype: int64"
            ]
          },
          "metadata": {},
          "execution_count": 73
        }
      ]
    },
    {
      "cell_type": "code",
      "source": [
        "dataset.groupby(by=['Actions_at_arrest___Mental_inst', 'ArrestLocDiv']).size()"
      ],
      "metadata": {
        "colab": {
          "base_uri": "https://localhost:8080/"
        },
        "id": "Y4oDDpayVIfX",
        "outputId": "139baa8f-8814-4626-f2ce-f3f207c29dc0"
      },
      "execution_count": 74,
      "outputs": [
        {
          "output_type": "execute_result",
          "data": {
            "text/plain": [
              "Actions_at_arrest___Mental_inst  ArrestLocDiv\n",
              "0                                11               1766\n",
              "                                 12               1868\n",
              "                                 13               1081\n",
              "                                 14               2956\n",
              "                                 22               1810\n",
              "                                 23               1713\n",
              "                                 31               2140\n",
              "                                 32               2019\n",
              "                                 33                919\n",
              "                                 41               2582\n",
              "                                 42               1785\n",
              "                                 43               2525\n",
              "                                 51               4519\n",
              "                                 52               2228\n",
              "                                 53               1319\n",
              "                                 54               1377\n",
              "                                 55               1487\n",
              "                                 XX              29003\n",
              "1                                11                 23\n",
              "                                 12                 34\n",
              "                                 13                 21\n",
              "                                 14                161\n",
              "                                 22                 40\n",
              "                                 23                 25\n",
              "                                 31                126\n",
              "                                 32                 69\n",
              "                                 33                 36\n",
              "                                 41                 58\n",
              "                                 42                 61\n",
              "                                 43                 82\n",
              "                                 51                506\n",
              "                                 52                112\n",
              "                                 53                 57\n",
              "                                 54                 60\n",
              "                                 55                 65\n",
              "                                 XX                643\n",
              "dtype: int64"
            ]
          },
          "metadata": {},
          "execution_count": 74
        }
      ]
    },
    {
      "cell_type": "code",
      "source": [
        "dataset.groupby(by=['Actions_at_arrest___Mental_inst', 'Arrest_Year']).size()"
      ],
      "metadata": {
        "colab": {
          "base_uri": "https://localhost:8080/"
        },
        "id": "cpd8ir_0XnlI",
        "outputId": "d4b613e8-d6a1-41ad-86a1-df4ff9cce939"
      },
      "execution_count": 75,
      "outputs": [
        {
          "output_type": "execute_result",
          "data": {
            "text/plain": [
              "Actions_at_arrest___Mental_inst  Arrest_Year\n",
              "0                                2020           30871\n",
              "                                 2021           32226\n",
              "1                                2020            1108\n",
              "                                 2021            1071\n",
              "dtype: int64"
            ]
          },
          "metadata": {},
          "execution_count": 75
        }
      ]
    },
    {
      "cell_type": "code",
      "source": [
        "dataset.groupby(by=['StripSearch', 'Sex']).size()"
      ],
      "metadata": {
        "colab": {
          "base_uri": "https://localhost:8080/"
        },
        "outputId": "bdb4d98e-d4cd-43db-f66e-a2e5016af681",
        "id": "z3SiEHEZG-wE"
      },
      "execution_count": 76,
      "outputs": [
        {
          "output_type": "execute_result",
          "data": {
            "text/plain": [
              "StripSearch  Sex\n",
              "0            F      11334\n",
              "             M      46132\n",
              "             U          9\n",
              "1            F       1283\n",
              "             M       6518\n",
              "dtype: int64"
            ]
          },
          "metadata": {},
          "execution_count": 76
        }
      ]
    },
    {
      "cell_type": "code",
      "source": [
        "dataset.groupby(by=['StripSearch', 'Age_group__at_arrest_', 'Sex', 'Arrest_Year']).size()"
      ],
      "metadata": {
        "colab": {
          "base_uri": "https://localhost:8080/"
        },
        "outputId": "fedfc942-5baa-4ec5-93a2-ccd0fe6b917e",
        "id": "bXk6rraBG7kv"
      },
      "execution_count": 77,
      "outputs": [
        {
          "output_type": "execute_result",
          "data": {
            "text/plain": [
              "StripSearch  Age_group__at_arrest_      Sex  Arrest_Year\n",
              "0            Aged 17 years and under    F    2021            278\n",
              "                                        M    2021           1074\n",
              "             Aged 17 years and younger  F    2020            424\n",
              "                                        M    2020            986\n",
              "             Aged 18 to 24 years        F    2020            868\n",
              "                                             2021            986\n",
              "                                        M    2020           3183\n",
              "                                             2021           3653\n",
              "                                        U    2020              2\n",
              "             Aged 25 to 34 years        F    2020           1543\n",
              "                                             2021           2166\n",
              "                                        M    2020           6093\n",
              "                                             2021           8372\n",
              "                                        U    2020              1\n",
              "                                             2021              3\n",
              "             Aged 35 to 44 years        F    2020           1096\n",
              "                                             2021           1643\n",
              "                                        M    2020           4639\n",
              "                                             2021           6765\n",
              "                                        U    2020              1\n",
              "             Aged 45 to 54 years        F    2020            623\n",
              "                                             2021            844\n",
              "                                        M    2020           2907\n",
              "                                             2021           3787\n",
              "             Aged 55 to 64 years        F    2020            305\n",
              "                                             2021            344\n",
              "                                        M    2020           1587\n",
              "                                             2021           1990\n",
              "                                        U    2020              2\n",
              "             Aged 65 and older          F    2020            104\n",
              "                                        M    2020            489\n",
              "             Aged 65 years and older    F    2021            102\n",
              "                                        M    2021            591\n",
              "1            Aged 17 years and under    F    2021              4\n",
              "                                        M    2021              5\n",
              "             Aged 17 years and younger  F    2020             27\n",
              "                                        M    2020            244\n",
              "             Aged 18 to 24 years        F    2020            200\n",
              "                                             2021             15\n",
              "                                        M    2020           1046\n",
              "                                             2021             88\n",
              "             Aged 25 to 34 years        F    2020            476\n",
              "                                             2021             46\n",
              "                                        M    2020           2044\n",
              "                                             2021            205\n",
              "             Aged 35 to 44 years        F    2020            313\n",
              "                                             2021             32\n",
              "                                        M    2020           1555\n",
              "                                             2021            198\n",
              "             Aged 45 to 54 years        F    2020            121\n",
              "                                             2021             14\n",
              "                                        M    2020            719\n",
              "                                             2021             51\n",
              "             Aged 55 to 64 years        F    2020             30\n",
              "                                             2021              1\n",
              "                                        M    2020            309\n",
              "                                             2021             22\n",
              "             Aged 65 and older          F    2020              4\n",
              "                                        M    2020             27\n",
              "             Aged 65 years and older    M    2021              5\n",
              "dtype: int64"
            ]
          },
          "metadata": {},
          "execution_count": 77
        }
      ]
    },
    {
      "cell_type": "code",
      "source": [
        "df = pd.DataFrame({\n",
        "    'Mental_inst_count':['3','6','2','17','5','2','14','6','7','6','9','14','59','10','3','8','6','63','6','16','9','61','17','10','61','28','14','26','35','33','175','64','24','25','38','221','6','3','2','12','3','2','11','6','3','11','1','7','60','6','7','13','3','105','8','9','8','71','15','11','40','28','12','15','16','28','210','29','23','14','18','254'],\n",
        "    'Sex':['F','F','F','F','F','F','F','F','F','F','F','F','F','F','F','F','F','F','M','M','M','M','M','M','M','M','M','M','M','M','M','M','M','M','M','M','F','F','F','F','F','F','F','F','F','F','F','F','F','F','F','F','F','F','M','M','M','M','M','M','M','M','M','M','M','M','M','M','M','M','M','M'],\n",
        "    'Year':['2020','2020','2020','2020','2020','2020','2020','2020','2020','2020','2020','2020','2020','2020','2020','2020','2020','2020','2020','2020','2020','2020','2020','2020','2020','2020','2020','2020','2020','2020','2020','2020','2020','2020','2020','2020','2021','2021','2021','2021','2021','2021','2021','2021','2021','2021','2021','2021','2021','2021','2021','2021','2021','2021','2021','2021','2021','2021','2021','2021','2021','2021','2021','2021','2021','2021','2021','2021','2021','2021','2021','2021'],\n",
        "    'ArrestLocDiv':['11','12','13','14','22','23','31','32','33','41','42','43','51','52','53','54','55','XX','11','12','13','14','22','23','31','32','33','41','42','43','51','52','53','54','55','XX','11','12','13','14','22','23','31','32','33','41','42','43','51','52','53','54','55','XX','11','12','13','14','22','23','31','32','33','41','42','43','51','52','53','54','55','XX'],\n",
        "})\n",
        "\n",
        "\n",
        "print(df)"
      ],
      "metadata": {
        "colab": {
          "base_uri": "https://localhost:8080/"
        },
        "id": "zcfPv3nllXsC",
        "outputId": "f25ab496-4a79-495b-963e-c0743298acbc"
      },
      "execution_count": 78,
      "outputs": [
        {
          "output_type": "stream",
          "name": "stdout",
          "text": [
            "   Mental_inst_count Sex  Year ArrestLocDiv\n",
            "0                  3   F  2020           11\n",
            "1                  6   F  2020           12\n",
            "2                  2   F  2020           13\n",
            "3                 17   F  2020           14\n",
            "4                  5   F  2020           22\n",
            "..               ...  ..   ...          ...\n",
            "67                29   M  2021           52\n",
            "68                23   M  2021           53\n",
            "69                14   M  2021           54\n",
            "70                18   M  2021           55\n",
            "71               254   M  2021           XX\n",
            "\n",
            "[72 rows x 4 columns]\n"
          ]
        }
      ]
    },
    {
      "cell_type": "code",
      "source": [
        "df['Mental_inst_count'] = pd.to_numeric(df['Mental_inst_count'], errors='coerce')"
      ],
      "metadata": {
        "id": "AUm7x0db-4Re"
      },
      "execution_count": 79,
      "outputs": []
    },
    {
      "cell_type": "code",
      "source": [
        "df2 = pd.DataFrame({\n",
        "    'StripSearch':['27','4','200','15','476','46','313','32','121','14','30','1','4','0','244','5','1046','88','2044','205','1555','198','719','51','309','22','27','5'],\n",
        "    'Sex':['F','F','F','F','F','F','F','F','F','F','F','F','F','F','M','M','M','M','M','M','M','M','M','M','M','M','M','M'],\n",
        "    'Year':['2020','2021','2020','2021','2020','2021','2020','2021','2020','2021','2020','2021','2020','2021','2020','2021','2020','2021','2020','2021','2020','2021','2020','2021','2020','2021','2020','2021',],\n",
        "    'Age_group__at_arrest_':['<17','<17','18-24','18-24','25-34','25-34','35-44','35-44','45-54','45-54','55-64','55-64','>65','>65','<17','<17','18-24','18-24','25-34','25-34','35-44','35-44','45-54','45-54','55-64','55-64','>65','>65'],\n",
        "})\n",
        "print(df2)\n",
        "df2['StripSearch'] = pd.to_numeric(df2['StripSearch'], errors='coerce')"
      ],
      "metadata": {
        "id": "nR_DN_kxG5Sk",
        "colab": {
          "base_uri": "https://localhost:8080/"
        },
        "outputId": "7bf971de-19c3-4309-a0ab-339a7f6782ba"
      },
      "execution_count": 80,
      "outputs": [
        {
          "output_type": "stream",
          "name": "stdout",
          "text": [
            "   StripSearch Sex  Year Age_group__at_arrest_\n",
            "0           27   F  2020                   <17\n",
            "1            4   F  2021                   <17\n",
            "2          200   F  2020                 18-24\n",
            "3           15   F  2021                 18-24\n",
            "4          476   F  2020                 25-34\n",
            "5           46   F  2021                 25-34\n",
            "6          313   F  2020                 35-44\n",
            "7           32   F  2021                 35-44\n",
            "8          121   F  2020                 45-54\n",
            "9           14   F  2021                 45-54\n",
            "10          30   F  2020                 55-64\n",
            "11           1   F  2021                 55-64\n",
            "12           4   F  2020                   >65\n",
            "13           0   F  2021                   >65\n",
            "14         244   M  2020                   <17\n",
            "15           5   M  2021                   <17\n",
            "16        1046   M  2020                 18-24\n",
            "17          88   M  2021                 18-24\n",
            "18        2044   M  2020                 25-34\n",
            "19         205   M  2021                 25-34\n",
            "20        1555   M  2020                 35-44\n",
            "21         198   M  2021                 35-44\n",
            "22         719   M  2020                 45-54\n",
            "23          51   M  2021                 45-54\n",
            "24         309   M  2020                 55-64\n",
            "25          22   M  2021                 55-64\n",
            "26          27   M  2020                   >65\n",
            "27           5   M  2021                   >65\n"
          ]
        }
      ]
    },
    {
      "cell_type": "markdown",
      "source": [
        "# Power analysis"
      ],
      "metadata": {
        "id": "FQD9w0em-CDS"
      }
    },
    {
      "cell_type": "code",
      "source": [
        "import scipy.stats\n",
        "import statsmodels.stats.power as smp\n",
        "import matplotlib.pyplot as plt\n",
        "\n",
        "power_analysis = smp.TTestIndPower()\n",
        "sample_size = power_analysis.solve_power(effect_size=0.5, power=0.8, alpha=0.05)\n",
        "sample_size"
      ],
      "metadata": {
        "colab": {
          "base_uri": "https://localhost:8080/"
        },
        "id": "hIpca7Fx-DZx",
        "outputId": "7e461198-58b3-438f-d30a-df1462bfc1ea"
      },
      "execution_count": null,
      "outputs": [
        {
          "output_type": "stream",
          "name": "stderr",
          "text": [
            "/usr/local/lib/python3.9/dist-packages/scipy/stats/_continuous_distns.py:6832: RuntimeWarning: invalid value encountered in _nct_sf\n",
            "  return np.clip(_boost._nct_sf(x, df, nc), 0, 1)\n",
            "/usr/local/lib/python3.9/dist-packages/scipy/stats/_continuous_distns.py:6826: RuntimeWarning: invalid value encountered in _nct_cdf\n",
            "  return np.clip(_boost._nct_cdf(x, df, nc), 0, 1)\n"
          ]
        },
        {
          "output_type": "execute_result",
          "data": {
            "text/plain": [
              "63.765610587854056"
            ]
          },
          "metadata": {},
          "execution_count": 4
        }
      ]
    },
    {
      "cell_type": "code",
      "source": [
        "effect_sizes = np.array([0.2, 0.5, 0.8])\n",
        "sample_sizes = np.array(range(10, 600, 10))\n",
        "\n",
        "plt.style.use('seaborn')\n",
        "fig = plt.figure()\n",
        "ax = fig.add_subplot(1, 1, 1)\n",
        "fig = power_analysis.plot_power(\n",
        "    dep_var='nobs', nobs=sample_sizes,  \n",
        "    effect_size=effect_sizes, alpha=0.05, ax=ax, \n",
        "    title='Power of Independent Samples t-test\\nalpha=0.05')"
      ],
      "metadata": {
        "colab": {
          "base_uri": "https://localhost:8080/",
          "height": 597
        },
        "id": "T94syWmpAg8v",
        "outputId": "25959665-567e-4589-9b74-3080c0bd5793"
      },
      "execution_count": null,
      "outputs": [
        {
          "output_type": "stream",
          "name": "stderr",
          "text": [
            "<ipython-input-11-1c82f06b420f>:4: MatplotlibDeprecationWarning: The seaborn styles shipped by Matplotlib are deprecated since 3.6, as they no longer correspond to the styles shipped by seaborn. However, they will remain available as 'seaborn-v0_8-<style>'. Alternatively, directly use the seaborn API instead.\n",
            "  plt.style.use('seaborn')\n"
          ]
        },
        {
          "output_type": "display_data",
          "data": {
            "text/plain": [
              "<Figure size 800x550 with 1 Axes>"
            ],
            "image/png": "[encoded data removed]"
          },
          "metadata": {}
        }
      ]
    },
    {
      "cell_type": "code",
      "source": [
        "num_runs = 65276\n",
        "effectSize = 0.5\n",
        "\n",
        "# perform power analysis to get sample size\n",
        "power_analysis = smp.TTestIndPower()\n",
        "sampleSize = power_analysis.solve_power(\n",
        "    effect_size=effectSize, power=0.8, alpha=0.05)\n",
        "\n",
        "# round up from estimated sample size\n",
        "sampleSize = np.int(np.ceil(sampleSize))\n",
        "\n",
        "# create a function that will generate samples and test for\n",
        "# a difference between groups using a two-sample t-test\n",
        "\n",
        "\n",
        "def get_t_result(sampleSize, effectSize):\n",
        "    \"\"\"\n",
        "    perform a ttest on random data of n=sampSize\n",
        "    \"\"\"\n",
        "    \n",
        "    group1 = np.random.normal(loc=0.0, scale=1.0, size=sampleSize)\n",
        "    group2 = np.random.normal(loc=effectSize, scale=1.0, size=sampleSize)\n",
        "    ttresult = scipy.stats.ttest_ind(group1, group2)\n",
        "    return(ttresult.pvalue)\n",
        "\n",
        "\n",
        "# create input data frame for output\n",
        "power_sim_results = pd.DataFrame({'p_value': np.zeros(num_runs)})\n",
        "\n",
        "for run in range(num_runs):\n",
        "    power_sim_results.loc[run, 'p_value'] = get_t_result(sampleSize, effectSize)\n",
        "\n",
        "\n",
        "p_reject = np.mean(power_sim_results['p_value'] < 0.05)\n",
        "p_reject"
      ],
      "metadata": {
        "colab": {
          "base_uri": "https://localhost:8080/"
        },
        "id": "Pw2pZx-eDMQC",
        "outputId": "b27ecb46-1752-4714-f85b-78cf0f42f924"
      },
      "execution_count": null,
      "outputs": [
        {
          "output_type": "stream",
          "name": "stderr",
          "text": [
            "/usr/local/lib/python3.9/dist-packages/scipy/stats/_continuous_distns.py:6832: RuntimeWarning: invalid value encountered in _nct_sf\n",
            "  return np.clip(_boost._nct_sf(x, df, nc), 0, 1)\n",
            "/usr/local/lib/python3.9/dist-packages/scipy/stats/_continuous_distns.py:6826: RuntimeWarning: invalid value encountered in _nct_cdf\n",
            "  return np.clip(_boost._nct_cdf(x, df, nc), 0, 1)\n",
            "<ipython-input-43-c1dee6cc5f61>:10: DeprecationWarning: `np.int` is a deprecated alias for the builtin `int`. To silence this warning, use `int` by itself. Doing this will not modify any behavior and is safe. When replacing `np.int`, you may wish to use e.g. `np.int64` or `np.int32` to specify the precision. If you wish to review your current use, check the release note link for additional information.\n",
            "Deprecated in NumPy 1.20; for more details and guidance: https://numpy.org/devdocs/release/1.20.0-notes.html#deprecations\n",
            "  sampleSize = np.int(np.ceil(sampleSize))\n"
          ]
        },
        {
          "output_type": "execute_result",
          "data": {
            "text/plain": [
              "0.79805747901219437"
            ]
          },
          "metadata": {},
          "execution_count": 43
        }
      ]
    },
    {
      "cell_type": "code",
      "source": [
        "n1, n2 = 36, 36\n",
        "\n",
        "# variance of samples in pilot study\n",
        "s1, s2 = 22, 63\n",
        "\n",
        "# calculate the pooled standard deviation\n",
        "# (Cohen's d)\n",
        "s = sqrt(((n1 - 1) * s1 + (n2 - 1) * s2) / (n1 + n2 - 2))\n",
        "\n",
        "# means of the samples\n",
        "u1, u2 = 90, 85\n",
        "\n",
        "# calculate the effect size\n",
        "d = (u1 - u2) / s\n",
        "print(f'Effect size: {d}')\n",
        "\n",
        "# factors for power analysis\n",
        "alpha = 0.05\n",
        "power = 0.8\n",
        "\n",
        "# perform power analysis to find sample size\n",
        "# for given effect\n",
        "obj = TTestIndPower()\n",
        "n = obj.solve_power(effect_size=d, alpha=alpha, power=power,\n",
        "\t\t\t\t\tratio=1, alternative='two-sided')\n",
        "\n",
        "print('Sample size/Number needed in each group: {:.3f}'.format(n))"
      ],
      "metadata": {
        "colab": {
          "base_uri": "https://localhost:8080/"
        },
        "id": "rrki44h6EKfN",
        "outputId": "31c5f0b5-360d-4413-c262-a9fd28adfe61"
      },
      "execution_count": null,
      "outputs": [
        {
          "output_type": "stream",
          "name": "stdout",
          "text": [
            "Effect size: 0.7669649888473704\n",
            "Sample size/Number needed in each group: 27.680\n"
          ]
        },
        {
          "output_type": "stream",
          "name": "stderr",
          "text": [
            "/usr/local/lib/python3.9/dist-packages/scipy/stats/_continuous_distns.py:6832: RuntimeWarning: invalid value encountered in _nct_sf\n",
            "  return np.clip(_boost._nct_sf(x, df, nc), 0, 1)\n",
            "/usr/local/lib/python3.9/dist-packages/scipy/stats/_continuous_distns.py:6826: RuntimeWarning: invalid value encountered in _nct_cdf\n",
            "  return np.clip(_boost._nct_cdf(x, df, nc), 0, 1)\n"
          ]
        }
      ]
    },
    {
      "cell_type": "code",
      "source": [
        "power = TTestPower()\n",
        "n_test = power.solve_power(nobs=36, effect_size = 0.5,\n",
        "\t\t\t\t\t\tpower = None, alpha = 0.05)\n",
        "print('Power: {:.3f}'.format(n_test))"
      ],
      "metadata": {
        "colab": {
          "base_uri": "https://localhost:8080/"
        },
        "id": "IKjJ3x1TGgLK",
        "outputId": "4859c3b4-dfcf-45f6-b404-29b75f6ea7d8"
      },
      "execution_count": null,
      "outputs": [
        {
          "output_type": "stream",
          "name": "stdout",
          "text": [
            "Power: 0.831\n"
          ]
        }
      ]
    },
    {
      "cell_type": "code",
      "source": [
        "effect_sizes = np.array([0.2, 0.5, 0.8,1.0])\n",
        "sample_sizes = np.array(range(50, 2000))\n",
        "\n",
        "# plot power curves\n",
        "obj = TTestIndPower()\n",
        "obj.plot_power(dep_var='nobs', nobs=sample_sizes,\n",
        "\t\t\teffect_size=effect_sizes)\n",
        "\n",
        "plt.show()"
      ],
      "metadata": {
        "colab": {
          "base_uri": "https://localhost:8080/",
          "height": 524
        },
        "id": "Nu7VIQ4JHlQ3",
        "outputId": "320222df-462a-4193-e16c-f91d9b1c58ba"
      },
      "execution_count": null,
      "outputs": [
        {
          "output_type": "display_data",
          "data": {
            "text/plain": [
              "<Figure size 800x550 with 1 Axes>"
            ],
            "image/png": "[encoded data removed]"
          },
          "metadata": {}
        }
      ]
    },
    {
      "cell_type": "markdown",
      "source": [
        "#EDA"
      ],
      "metadata": {
        "id": "zykHHe3PBDnT"
      }
    },
    {
      "cell_type": "code",
      "source": [
        "df_groups = dataset.groupby(['ArrestLocDiv'])['Actions_at_arrest___Mental_inst'].sum()\n",
        "df_groups.plot(kind='bar')"
      ],
      "metadata": {
        "colab": {
          "base_uri": "https://localhost:8080/"
        },
        "id": "R7RtiMYDCEOL",
        "outputId": "55e30194-58e5-420f-b920-c0b20f45f8a1"
      },
      "execution_count": null,
      "outputs": [
        {
          "output_type": "execute_result",
          "data": {
            "text/plain": [
              "<Axes: xlabel='ArrestLocDiv'>"
            ]
          },
          "metadata": {},
          "execution_count": 15
        }
      ]
    },
    {
      "cell_type": "code",
      "source": [
        "sns.set(rc={'figure.figsize':(20,14)})\n",
        "p = sns.boxplot(data=df, x = \"ArrestLocDiv\", y =\"Mental_inst_count\", hue=\"Year\")\n",
        "p.set(title = 'Mental instability or possibly suicidal Cases happened in each Toronto District')\n",
        "p.set(xlabel='Continents', ylabel='Toronto District Code Number')\n",
        "p.set_ylim(0,260)"
      ],
      "metadata": {
        "colab": {
          "base_uri": "https://localhost:8080/",
          "height": 980
        },
        "id": "8VC72DzgzxvL",
        "outputId": "f0f5cf6f-dfe2-4547-9077-280f83c288da"
      },
      "execution_count": null,
      "outputs": [
        {
          "output_type": "execute_result",
          "data": {
            "text/plain": [
              "(0.0, 260.0)"
            ]
          },
          "metadata": {},
          "execution_count": 22
        },
        {
          "output_type": "display_data",
          "data": {
            "text/plain": [
              "<Figure size 2000x1400 with 1 Axes>"
            ],
            "image/png": "[encoded data removed]"
          },
          "metadata": {}
        }
      ]
    },
    {
      "cell_type": "code",
      "source": [
        "\n",
        "plt.figure(figsize= (10,10))\n",
        "sns.boxplot(data = df['Mental_inst_count'])\n",
        "plt.title('Boxplot showing distribution of Mental instability or possibly suicidal')\n",
        "plt.xlabel('')\n",
        "plt.ylabel('')\n",
        "plt.show()"
      ],
      "metadata": {
        "id": "MYlT7ksnkT_f",
        "colab": {
          "base_uri": "https://localhost:8080/",
          "height": 857
        },
        "outputId": "58485379-fbbd-48f1-87b3-234597790f00"
      },
      "execution_count": null,
      "outputs": [
        {
          "output_type": "display_data",
          "data": {
            "text/plain": [
              "<Figure size 1000x1000 with 1 Axes>"
            ],
            "image/png": "[encoded data removed]"
          },
          "metadata": {}
        }
      ]
    },
    {
      "cell_type": "code",
      "source": [
        "df_groups2 = dataset.groupby(['Sex'])['StripSearch'].sum()\n",
        "df_groups2.plot(kind='bar')"
      ],
      "metadata": {
        "id": "KBIHPS6gDP0k",
        "colab": {
          "base_uri": "https://localhost:8080/",
          "height": 967
        },
        "outputId": "98b28496-cf3d-49e3-da2b-fa753590d054"
      },
      "execution_count": null,
      "outputs": [
        {
          "output_type": "execute_result",
          "data": {
            "text/plain": [
              "<Axes: xlabel='Sex'>"
            ]
          },
          "metadata": {},
          "execution_count": 24
        },
        {
          "output_type": "display_data",
          "data": {
            "text/plain": [
              "<Figure size 2000x1400 with 1 Axes>"
            ],
            "image/png": "[encoded data removed]"
          },
          "metadata": {}
        }
      ]
    },
    {
      "cell_type": "code",
      "source": [
        "df_groups3 = dataset.groupby(['Age_group__at_arrest_'])['StripSearch'].sum()\n",
        "df_groups3.plot(kind='bar')"
      ],
      "metadata": {
        "id": "AxySLWemDduM",
        "colab": {
          "base_uri": "https://localhost:8080/",
          "height": 990
        },
        "outputId": "36d17172-a792-4b2a-cb45-cad3c96def48"
      },
      "execution_count": null,
      "outputs": [
        {
          "output_type": "execute_result",
          "data": {
            "text/plain": [
              "<AxesSubplot:xlabel='Age_group__at_arrest_'>"
            ]
          },
          "metadata": {},
          "execution_count": 27
        },
        {
          "output_type": "display_data",
          "data": {
            "text/plain": [
              "<Figure size 1440x1008 with 1 Axes>"
            ],
            "image/png": "[encoded data removed]"
          },
          "metadata": {}
        }
      ]
    },
    {
      "cell_type": "markdown",
      "source": [
        "#T-test"
      ],
      "metadata": {
        "id": "bmlViD9gZ-Ho"
      }
    },
    {
      "cell_type": "code",
      "source": [
        "df['Mental_inst_count'] = pd.to_numeric(df['Mental_inst_count'], errors='coerce')\n",
        "df['Sex'] = df['Sex'].astype(\"string\")"
      ],
      "metadata": {
        "id": "24htFGD6uPlZ"
      },
      "execution_count": null,
      "outputs": []
    },
    {
      "cell_type": "code",
      "source": [
        "df['Sex'].unique()"
      ],
      "metadata": {
        "colab": {
          "base_uri": "https://localhost:8080/"
        },
        "id": "pJHF-gxSuX5M",
        "outputId": "e7dde05b-9096-424a-9a6f-3747962b592f"
      },
      "execution_count": null,
      "outputs": [
        {
          "output_type": "execute_result",
          "data": {
            "text/plain": [
              "<StringArray>\n",
              "['F', 'M']\n",
              "Length: 2, dtype: string"
            ]
          },
          "metadata": {},
          "execution_count": 29
        }
      ]
    },
    {
      "cell_type": "code",
      "source": [
        "df.groupby('Sex')['Mental_inst_count'].describe()"
      ],
      "metadata": {
        "colab": {
          "base_uri": "https://localhost:8080/",
          "height": 143
        },
        "id": "hIQhzm_2n9DJ",
        "outputId": "414ba32e-ee45-4b8b-a8ff-334d2195e008"
      },
      "execution_count": null,
      "outputs": [
        {
          "output_type": "execute_result",
          "data": {
            "text/plain": [
              "     count       mean        std  min   25%   50%    75%    max\n",
              "Sex                                                            \n",
              "F     36.0  13.916667  22.089914  1.0   3.0   6.0  11.25  105.0\n",
              "M     36.0  46.444444  63.385643  6.0  14.0  24.5  38.50  254.0"
            ],
            "text/html": [
              "\n",
              "  <div id=\"df-aeb7ab94-5794-485f-bd8c-f08c947dcda3\">\n",
              "    <div class=\"colab-df-container\">\n",
              "      <div>\n",
              "<style scoped>\n",
              "    .dataframe tbody tr th:only-of-type {\n",
              "        vertical-align: middle;\n",
              "    }\n",
              "\n",
              "    .dataframe tbody tr th {\n",
              "        vertical-align: top;\n",
              "    }\n",
              "\n",
              "    .dataframe thead th {\n",
              "        text-align: right;\n",
              "    }\n",
              "</style>\n",
              "<table border=\"1\" class=\"dataframe\">\n",
              "  <thead>\n",
              "    <tr style=\"text-align: right;\">\n",
              "      <th></th>\n",
              "      <th>count</th>\n",
              "      <th>mean</th>\n",
              "      <th>std</th>\n",
              "      <th>min</th>\n",
              "      <th>25%</th>\n",
              "      <th>50%</th>\n",
              "      <th>75%</th>\n",
              "      <th>max</th>\n",
              "    </tr>\n",
              "    <tr>\n",
              "      <th>Sex</th>\n",
              "      <th></th>\n",
              "      <th></th>\n",
              "      <th></th>\n",
              "      <th></th>\n",
              "      <th></th>\n",
              "      <th></th>\n",
              "      <th></th>\n",
              "      <th></th>\n",
              "    </tr>\n",
              "  </thead>\n",
              "  <tbody>\n",
              "    <tr>\n",
              "      <th>F</th>\n",
              "      <td>36.0</td>\n",
              "      <td>13.916667</td>\n",
              "      <td>22.089914</td>\n",
              "      <td>1.0</td>\n",
              "      <td>3.0</td>\n",
              "      <td>6.0</td>\n",
              "      <td>11.25</td>\n",
              "      <td>105.0</td>\n",
              "    </tr>\n",
              "    <tr>\n",
              "      <th>M</th>\n",
              "      <td>36.0</td>\n",
              "      <td>46.444444</td>\n",
              "      <td>63.385643</td>\n",
              "      <td>6.0</td>\n",
              "      <td>14.0</td>\n",
              "      <td>24.5</td>\n",
              "      <td>38.50</td>\n",
              "      <td>254.0</td>\n",
              "    </tr>\n",
              "  </tbody>\n",
              "</table>\n",
              "</div>\n",
              "      <button class=\"colab-df-convert\" onclick=\"convertToInteractive('df-aeb7ab94-5794-485f-bd8c-f08c947dcda3')\"\n",
              "              title=\"Convert this dataframe to an interactive table.\"\n",
              "              style=\"display:none;\">\n",
              "        \n",
              "  <svg xmlns=\"http://www.w3.org/2000/svg\" height=\"24px\"viewBox=\"0 0 24 24\"\n",
              "       width=\"24px\">\n",
              "    <path d=\"M0 0h24v24H0V0z\" fill=\"none\"/>\n",
              "    <path d=\"M18.56 5.44l.94 2.06.94-2.06 2.06-.94-2.06-.94-.94-2.06-.94 2.06-2.06.94zm-11 1L8.5 8.5l.94-2.06 2.06-.94-2.06-.94L8.5 2.5l-.94 2.06-2.06.94zm10 10l.94 2.06.94-2.06 2.06-.94-2.06-.94-.94-2.06-.94 2.06-2.06.94z\"/><path d=\"M17.41 7.96l-1.37-1.37c-.4-.4-.92-.59-1.43-.59-.52 0-1.04.2-1.43.59L10.3 9.45l-7.72 7.72c-.78.78-.78 2.05 0 2.83L4 21.41c.39.39.9.59 1.41.59.51 0 1.02-.2 1.41-.59l7.78-7.78 2.81-2.81c.8-.78.8-2.07 0-2.86zM5.41 20L4 18.59l7.72-7.72 1.47 1.35L5.41 20z\"/>\n",
              "  </svg>\n",
              "      </button>\n",
              "      \n",
              "  <style>\n",
              "    .colab-df-container {\n",
              "      display:flex;\n",
              "      flex-wrap:wrap;\n",
              "      gap: 12px;\n",
              "    }\n",
              "\n",
              "    .colab-df-convert {\n",
              "      background-color: #E8F0FE;\n",
              "      border: none;\n",
              "      border-radius: 50%;\n",
              "      cursor: pointer;\n",
              "      display: none;\n",
              "      fill: #1967D2;\n",
              "      height: 32px;\n",
              "      padding: 0 0 0 0;\n",
              "      width: 32px;\n",
              "    }\n",
              "\n",
              "    .colab-df-convert:hover {\n",
              "      background-color: #E2EBFA;\n",
              "      box-shadow: 0px 1px 2px rgba(60, 64, 67, 0.3), 0px 1px 3px 1px rgba(60, 64, 67, 0.15);\n",
              "      fill: #174EA6;\n",
              "    }\n",
              "\n",
              "    [theme=dark] .colab-df-convert {\n",
              "      background-color: #3B4455;\n",
              "      fill: #D2E3FC;\n",
              "    }\n",
              "\n",
              "    [theme=dark] .colab-df-convert:hover {\n",
              "      background-color: #434B5C;\n",
              "      box-shadow: 0px 1px 3px 1px rgba(0, 0, 0, 0.15);\n",
              "      filter: drop-shadow(0px 1px 2px rgba(0, 0, 0, 0.3));\n",
              "      fill: #FFFFFF;\n",
              "    }\n",
              "  </style>\n",
              "\n",
              "      <script>\n",
              "        const buttonEl =\n",
              "          document.querySelector('#df-aeb7ab94-5794-485f-bd8c-f08c947dcda3 button.colab-df-convert');\n",
              "        buttonEl.style.display =\n",
              "          google.colab.kernel.accessAllowed ? 'block' : 'none';\n",
              "\n",
              "        async function convertToInteractive(key) {\n",
              "          const element = document.querySelector('#df-aeb7ab94-5794-485f-bd8c-f08c947dcda3');\n",
              "          const dataTable =\n",
              "            await google.colab.kernel.invokeFunction('convertToInteractive',\n",
              "                                                     [key], {});\n",
              "          if (!dataTable) return;\n",
              "\n",
              "          const docLinkHtml = 'Like what you see? Visit the ' +\n",
              "            '<a target=\"_blank\" href=https://colab.research.google.com/notebooks/data_table.ipynb>data table notebook</a>'\n",
              "            + ' to learn more about interactive tables.';\n",
              "          element.innerHTML = '';\n",
              "          dataTable['output_type'] = 'display_data';\n",
              "          await google.colab.output.renderOutput(dataTable, element);\n",
              "          const docLink = document.createElement('div');\n",
              "          docLink.innerHTML = docLinkHtml;\n",
              "          element.appendChild(docLink);\n",
              "        }\n",
              "      </script>\n",
              "    </div>\n",
              "  </div>\n",
              "  "
            ]
          },
          "metadata": {},
          "execution_count": 30
        }
      ]
    },
    {
      "cell_type": "code",
      "source": [
        "df.groupby('Year')['Mental_inst_count'].describe()"
      ],
      "metadata": {
        "colab": {
          "base_uri": "https://localhost:8080/",
          "height": 143
        },
        "id": "6DVUGb-99K6a",
        "outputId": "bda8f598-2c86-4e18-ec91-be7b5e3ba236"
      },
      "execution_count": null,
      "outputs": [
        {
          "output_type": "execute_result",
          "data": {
            "text/plain": [
              "      count       mean        std  min  25%   50%    75%    max\n",
              "Year                                                           \n",
              "2020   36.0  30.638889  45.734109  2.0  6.0  14.0  33.50  221.0\n",
              "2021   36.0  29.722222  54.385718  1.0  6.0  11.5  24.25  254.0"
            ],
            "text/html": [
              "\n",
              "  <div id=\"df-ef6379c5-5cf8-4845-aa20-86c324d00cc2\">\n",
              "    <div class=\"colab-df-container\">\n",
              "      <div>\n",
              "<style scoped>\n",
              "    .dataframe tbody tr th:only-of-type {\n",
              "        vertical-align: middle;\n",
              "    }\n",
              "\n",
              "    .dataframe tbody tr th {\n",
              "        vertical-align: top;\n",
              "    }\n",
              "\n",
              "    .dataframe thead th {\n",
              "        text-align: right;\n",
              "    }\n",
              "</style>\n",
              "<table border=\"1\" class=\"dataframe\">\n",
              "  <thead>\n",
              "    <tr style=\"text-align: right;\">\n",
              "      <th></th>\n",
              "      <th>count</th>\n",
              "      <th>mean</th>\n",
              "      <th>std</th>\n",
              "      <th>min</th>\n",
              "      <th>25%</th>\n",
              "      <th>50%</th>\n",
              "      <th>75%</th>\n",
              "      <th>max</th>\n",
              "    </tr>\n",
              "    <tr>\n",
              "      <th>Year</th>\n",
              "      <th></th>\n",
              "      <th></th>\n",
              "      <th></th>\n",
              "      <th></th>\n",
              "      <th></th>\n",
              "      <th></th>\n",
              "      <th></th>\n",
              "      <th></th>\n",
              "    </tr>\n",
              "  </thead>\n",
              "  <tbody>\n",
              "    <tr>\n",
              "      <th>2020</th>\n",
              "      <td>36.0</td>\n",
              "      <td>30.638889</td>\n",
              "      <td>45.734109</td>\n",
              "      <td>2.0</td>\n",
              "      <td>6.0</td>\n",
              "      <td>14.0</td>\n",
              "      <td>33.50</td>\n",
              "      <td>221.0</td>\n",
              "    </tr>\n",
              "    <tr>\n",
              "      <th>2021</th>\n",
              "      <td>36.0</td>\n",
              "      <td>29.722222</td>\n",
              "      <td>54.385718</td>\n",
              "      <td>1.0</td>\n",
              "      <td>6.0</td>\n",
              "      <td>11.5</td>\n",
              "      <td>24.25</td>\n",
              "      <td>254.0</td>\n",
              "    </tr>\n",
              "  </tbody>\n",
              "</table>\n",
              "</div>\n",
              "      <button class=\"colab-df-convert\" onclick=\"convertToInteractive('df-ef6379c5-5cf8-4845-aa20-86c324d00cc2')\"\n",
              "              title=\"Convert this dataframe to an interactive table.\"\n",
              "              style=\"display:none;\">\n",
              "        \n",
              "  <svg xmlns=\"http://www.w3.org/2000/svg\" height=\"24px\"viewBox=\"0 0 24 24\"\n",
              "       width=\"24px\">\n",
              "    <path d=\"M0 0h24v24H0V0z\" fill=\"none\"/>\n",
              "    <path d=\"M18.56 5.44l.94 2.06.94-2.06 2.06-.94-2.06-.94-.94-2.06-.94 2.06-2.06.94zm-11 1L8.5 8.5l.94-2.06 2.06-.94-2.06-.94L8.5 2.5l-.94 2.06-2.06.94zm10 10l.94 2.06.94-2.06 2.06-.94-2.06-.94-.94-2.06-.94 2.06-2.06.94z\"/><path d=\"M17.41 7.96l-1.37-1.37c-.4-.4-.92-.59-1.43-.59-.52 0-1.04.2-1.43.59L10.3 9.45l-7.72 7.72c-.78.78-.78 2.05 0 2.83L4 21.41c.39.39.9.59 1.41.59.51 0 1.02-.2 1.41-.59l7.78-7.78 2.81-2.81c.8-.78.8-2.07 0-2.86zM5.41 20L4 18.59l7.72-7.72 1.47 1.35L5.41 20z\"/>\n",
              "  </svg>\n",
              "      </button>\n",
              "      \n",
              "  <style>\n",
              "    .colab-df-container {\n",
              "      display:flex;\n",
              "      flex-wrap:wrap;\n",
              "      gap: 12px;\n",
              "    }\n",
              "\n",
              "    .colab-df-convert {\n",
              "      background-color: #E8F0FE;\n",
              "      border: none;\n",
              "      border-radius: 50%;\n",
              "      cursor: pointer;\n",
              "      display: none;\n",
              "      fill: #1967D2;\n",
              "      height: 32px;\n",
              "      padding: 0 0 0 0;\n",
              "      width: 32px;\n",
              "    }\n",
              "\n",
              "    .colab-df-convert:hover {\n",
              "      background-color: #E2EBFA;\n",
              "      box-shadow: 0px 1px 2px rgba(60, 64, 67, 0.3), 0px 1px 3px 1px rgba(60, 64, 67, 0.15);\n",
              "      fill: #174EA6;\n",
              "    }\n",
              "\n",
              "    [theme=dark] .colab-df-convert {\n",
              "      background-color: #3B4455;\n",
              "      fill: #D2E3FC;\n",
              "    }\n",
              "\n",
              "    [theme=dark] .colab-df-convert:hover {\n",
              "      background-color: #434B5C;\n",
              "      box-shadow: 0px 1px 3px 1px rgba(0, 0, 0, 0.15);\n",
              "      filter: drop-shadow(0px 1px 2px rgba(0, 0, 0, 0.3));\n",
              "      fill: #FFFFFF;\n",
              "    }\n",
              "  </style>\n",
              "\n",
              "      <script>\n",
              "        const buttonEl =\n",
              "          document.querySelector('#df-ef6379c5-5cf8-4845-aa20-86c324d00cc2 button.colab-df-convert');\n",
              "        buttonEl.style.display =\n",
              "          google.colab.kernel.accessAllowed ? 'block' : 'none';\n",
              "\n",
              "        async function convertToInteractive(key) {\n",
              "          const element = document.querySelector('#df-ef6379c5-5cf8-4845-aa20-86c324d00cc2');\n",
              "          const dataTable =\n",
              "            await google.colab.kernel.invokeFunction('convertToInteractive',\n",
              "                                                     [key], {});\n",
              "          if (!dataTable) return;\n",
              "\n",
              "          const docLinkHtml = 'Like what you see? Visit the ' +\n",
              "            '<a target=\"_blank\" href=https://colab.research.google.com/notebooks/data_table.ipynb>data table notebook</a>'\n",
              "            + ' to learn more about interactive tables.';\n",
              "          element.innerHTML = '';\n",
              "          dataTable['output_type'] = 'display_data';\n",
              "          await google.colab.output.renderOutput(dataTable, element);\n",
              "          const docLink = document.createElement('div');\n",
              "          docLink.innerHTML = docLinkHtml;\n",
              "          element.appendChild(docLink);\n",
              "        }\n",
              "      </script>\n",
              "    </div>\n",
              "  </div>\n",
              "  "
            ]
          },
          "metadata": {},
          "execution_count": 31
        }
      ]
    },
    {
      "cell_type": "code",
      "source": [
        "df.groupby('ArrestLocDiv')['Mental_inst_count'].describe()"
      ],
      "metadata": {
        "colab": {
          "base_uri": "https://localhost:8080/",
          "height": 645
        },
        "id": "Y-DqqrHO9TPe",
        "outputId": "75bdcb28-76a4-42ee-cc25-906f77ca9727"
      },
      "execution_count": null,
      "outputs": [
        {
          "output_type": "execute_result",
          "data": {
            "text/plain": [
              "              count    mean        std   min    25%    50%     75%    max\n",
              "ArrestLocDiv                                                             \n",
              "11              4.0    5.75   2.061553   3.0   5.25    6.0    6.50    8.0\n",
              "12              4.0    8.50   5.567764   3.0   5.25    7.5   10.75   16.0\n",
              "13              4.0    5.25   3.774917   2.0   2.00    5.0    8.25    9.0\n",
              "14              4.0   40.25  30.081833  12.0  15.75   39.0   63.50   71.0\n",
              "22              4.0   10.00   7.023769   3.0   4.50   10.0   15.50   17.0\n",
              "23              4.0    6.25   4.924429   2.0   2.00    6.0   10.25   11.0\n",
              "31              4.0   31.50  23.586719  11.0  13.25   27.0   45.25   61.0\n",
              "32              4.0   17.00  12.701706   6.0   6.00   17.0   28.00   28.0\n",
              "33              4.0    9.00   4.966555   3.0   6.00    9.5   12.50   14.0\n",
              "41              4.0   14.50   8.504901   6.0   9.75   13.0   17.75   26.0\n",
              "42              4.0   15.25  14.522970   1.0   7.00   12.5   20.75   35.0\n",
              "43              4.0   20.50  12.069245   7.0  12.25   21.0   29.25   33.0\n",
              "51              4.0  126.00  78.106765  59.0  59.75  117.5  183.75  210.0\n",
              "52              4.0   27.25  26.474831   6.0   9.00   19.5   37.75   64.0\n",
              "53              4.0   14.25  10.812801   3.0   6.00   15.0   23.25   24.0\n",
              "54              4.0   15.00   7.164728   8.0  11.75   13.5   16.75   25.0\n",
              "55              4.0   16.25  15.882380   3.0   5.25   12.0   23.00   38.0\n",
              "XX              4.0  160.75  91.266551  63.0  94.50  163.0  229.25  254.0"
            ],
            "text/html": [
              "\n",
              "  <div id=\"df-1c5b680a-f1b9-4810-a4a6-41b3a7d8a491\">\n",
              "    <div class=\"colab-df-container\">\n",
              "      <div>\n",
              "<style scoped>\n",
              "    .dataframe tbody tr th:only-of-type {\n",
              "        vertical-align: middle;\n",
              "    }\n",
              "\n",
              "    .dataframe tbody tr th {\n",
              "        vertical-align: top;\n",
              "    }\n",
              "\n",
              "    .dataframe thead th {\n",
              "        text-align: right;\n",
              "    }\n",
              "</style>\n",
              "<table border=\"1\" class=\"dataframe\">\n",
              "  <thead>\n",
              "    <tr style=\"text-align: right;\">\n",
              "      <th></th>\n",
              "      <th>count</th>\n",
              "      <th>mean</th>\n",
              "      <th>std</th>\n",
              "      <th>min</th>\n",
              "      <th>25%</th>\n",
              "      <th>50%</th>\n",
              "      <th>75%</th>\n",
              "      <th>max</th>\n",
              "    </tr>\n",
              "    <tr>\n",
              "      <th>ArrestLocDiv</th>\n",
              "      <th></th>\n",
              "      <th></th>\n",
              "      <th></th>\n",
              "      <th></th>\n",
              "      <th></th>\n",
              "      <th></th>\n",
              "      <th></th>\n",
              "      <th></th>\n",
              "    </tr>\n",
              "  </thead>\n",
              "  <tbody>\n",
              "    <tr>\n",
              "      <th>11</th>\n",
              "      <td>4.0</td>\n",
              "      <td>5.75</td>\n",
              "      <td>2.061553</td>\n",
              "      <td>3.0</td>\n",
              "      <td>5.25</td>\n",
              "      <td>6.0</td>\n",
              "      <td>6.50</td>\n",
              "      <td>8.0</td>\n",
              "    </tr>\n",
              "    <tr>\n",
              "      <th>12</th>\n",
              "      <td>4.0</td>\n",
              "      <td>8.50</td>\n",
              "      <td>5.567764</td>\n",
              "      <td>3.0</td>\n",
              "      <td>5.25</td>\n",
              "      <td>7.5</td>\n",
              "      <td>10.75</td>\n",
              "      <td>16.0</td>\n",
              "    </tr>\n",
              "    <tr>\n",
              "      <th>13</th>\n",
              "      <td>4.0</td>\n",
              "      <td>5.25</td>\n",
              "      <td>3.774917</td>\n",
              "      <td>2.0</td>\n",
              "      <td>2.00</td>\n",
              "      <td>5.0</td>\n",
              "      <td>8.25</td>\n",
              "      <td>9.0</td>\n",
              "    </tr>\n",
              "    <tr>\n",
              "      <th>14</th>\n",
              "      <td>4.0</td>\n",
              "      <td>40.25</td>\n",
              "      <td>30.081833</td>\n",
              "      <td>12.0</td>\n",
              "      <td>15.75</td>\n",
              "      <td>39.0</td>\n",
              "      <td>63.50</td>\n",
              "      <td>71.0</td>\n",
              "    </tr>\n",
              "    <tr>\n",
              "      <th>22</th>\n",
              "      <td>4.0</td>\n",
              "      <td>10.00</td>\n",
              "      <td>7.023769</td>\n",
              "      <td>3.0</td>\n",
              "      <td>4.50</td>\n",
              "      <td>10.0</td>\n",
              "      <td>15.50</td>\n",
              "      <td>17.0</td>\n",
              "    </tr>\n",
              "    <tr>\n",
              "      <th>23</th>\n",
              "      <td>4.0</td>\n",
              "      <td>6.25</td>\n",
              "      <td>4.924429</td>\n",
              "      <td>2.0</td>\n",
              "      <td>2.00</td>\n",
              "      <td>6.0</td>\n",
              "      <td>10.25</td>\n",
              "      <td>11.0</td>\n",
              "    </tr>\n",
              "    <tr>\n",
              "      <th>31</th>\n",
              "      <td>4.0</td>\n",
              "      <td>31.50</td>\n",
              "      <td>23.586719</td>\n",
              "      <td>11.0</td>\n",
              "      <td>13.25</td>\n",
              "      <td>27.0</td>\n",
              "      <td>45.25</td>\n",
              "      <td>61.0</td>\n",
              "    </tr>\n",
              "    <tr>\n",
              "      <th>32</th>\n",
              "      <td>4.0</td>\n",
              "      <td>17.00</td>\n",
              "      <td>12.701706</td>\n",
              "      <td>6.0</td>\n",
              "      <td>6.00</td>\n",
              "      <td>17.0</td>\n",
              "      <td>28.00</td>\n",
              "      <td>28.0</td>\n",
              "    </tr>\n",
              "    <tr>\n",
              "      <th>33</th>\n",
              "      <td>4.0</td>\n",
              "      <td>9.00</td>\n",
              "      <td>4.966555</td>\n",
              "      <td>3.0</td>\n",
              "      <td>6.00</td>\n",
              "      <td>9.5</td>\n",
              "      <td>12.50</td>\n",
              "      <td>14.0</td>\n",
              "    </tr>\n",
              "    <tr>\n",
              "      <th>41</th>\n",
              "      <td>4.0</td>\n",
              "      <td>14.50</td>\n",
              "      <td>8.504901</td>\n",
              "      <td>6.0</td>\n",
              "      <td>9.75</td>\n",
              "      <td>13.0</td>\n",
              "      <td>17.75</td>\n",
              "      <td>26.0</td>\n",
              "    </tr>\n",
              "    <tr>\n",
              "      <th>42</th>\n",
              "      <td>4.0</td>\n",
              "      <td>15.25</td>\n",
              "      <td>14.522970</td>\n",
              "      <td>1.0</td>\n",
              "      <td>7.00</td>\n",
              "      <td>12.5</td>\n",
              "      <td>20.75</td>\n",
              "      <td>35.0</td>\n",
              "    </tr>\n",
              "    <tr>\n",
              "      <th>43</th>\n",
              "      <td>4.0</td>\n",
              "      <td>20.50</td>\n",
              "      <td>12.069245</td>\n",
              "      <td>7.0</td>\n",
              "      <td>12.25</td>\n",
              "      <td>21.0</td>\n",
              "      <td>29.25</td>\n",
              "      <td>33.0</td>\n",
              "    </tr>\n",
              "    <tr>\n",
              "      <th>51</th>\n",
              "      <td>4.0</td>\n",
              "      <td>126.00</td>\n",
              "      <td>78.106765</td>\n",
              "      <td>59.0</td>\n",
              "      <td>59.75</td>\n",
              "      <td>117.5</td>\n",
              "      <td>183.75</td>\n",
              "      <td>210.0</td>\n",
              "    </tr>\n",
              "    <tr>\n",
              "      <th>52</th>\n",
              "      <td>4.0</td>\n",
              "      <td>27.25</td>\n",
              "      <td>26.474831</td>\n",
              "      <td>6.0</td>\n",
              "      <td>9.00</td>\n",
              "      <td>19.5</td>\n",
              "      <td>37.75</td>\n",
              "      <td>64.0</td>\n",
              "    </tr>\n",
              "    <tr>\n",
              "      <th>53</th>\n",
              "      <td>4.0</td>\n",
              "      <td>14.25</td>\n",
              "      <td>10.812801</td>\n",
              "      <td>3.0</td>\n",
              "      <td>6.00</td>\n",
              "      <td>15.0</td>\n",
              "      <td>23.25</td>\n",
              "      <td>24.0</td>\n",
              "    </tr>\n",
              "    <tr>\n",
              "      <th>54</th>\n",
              "      <td>4.0</td>\n",
              "      <td>15.00</td>\n",
              "      <td>7.164728</td>\n",
              "      <td>8.0</td>\n",
              "      <td>11.75</td>\n",
              "      <td>13.5</td>\n",
              "      <td>16.75</td>\n",
              "      <td>25.0</td>\n",
              "    </tr>\n",
              "    <tr>\n",
              "      <th>55</th>\n",
              "      <td>4.0</td>\n",
              "      <td>16.25</td>\n",
              "      <td>15.882380</td>\n",
              "      <td>3.0</td>\n",
              "      <td>5.25</td>\n",
              "      <td>12.0</td>\n",
              "      <td>23.00</td>\n",
              "      <td>38.0</td>\n",
              "    </tr>\n",
              "    <tr>\n",
              "      <th>XX</th>\n",
              "      <td>4.0</td>\n",
              "      <td>160.75</td>\n",
              "      <td>91.266551</td>\n",
              "      <td>63.0</td>\n",
              "      <td>94.50</td>\n",
              "      <td>163.0</td>\n",
              "      <td>229.25</td>\n",
              "      <td>254.0</td>\n",
              "    </tr>\n",
              "  </tbody>\n",
              "</table>\n",
              "</div>\n",
              "      <button class=\"colab-df-convert\" onclick=\"convertToInteractive('df-1c5b680a-f1b9-4810-a4a6-41b3a7d8a491')\"\n",
              "              title=\"Convert this dataframe to an interactive table.\"\n",
              "              style=\"display:none;\">\n",
              "        \n",
              "  <svg xmlns=\"http://www.w3.org/2000/svg\" height=\"24px\"viewBox=\"0 0 24 24\"\n",
              "       width=\"24px\">\n",
              "    <path d=\"M0 0h24v24H0V0z\" fill=\"none\"/>\n",
              "    <path d=\"M18.56 5.44l.94 2.06.94-2.06 2.06-.94-2.06-.94-.94-2.06-.94 2.06-2.06.94zm-11 1L8.5 8.5l.94-2.06 2.06-.94-2.06-.94L8.5 2.5l-.94 2.06-2.06.94zm10 10l.94 2.06.94-2.06 2.06-.94-2.06-.94-.94-2.06-.94 2.06-2.06.94z\"/><path d=\"M17.41 7.96l-1.37-1.37c-.4-.4-.92-.59-1.43-.59-.52 0-1.04.2-1.43.59L10.3 9.45l-7.72 7.72c-.78.78-.78 2.05 0 2.83L4 21.41c.39.39.9.59 1.41.59.51 0 1.02-.2 1.41-.59l7.78-7.78 2.81-2.81c.8-.78.8-2.07 0-2.86zM5.41 20L4 18.59l7.72-7.72 1.47 1.35L5.41 20z\"/>\n",
              "  </svg>\n",
              "      </button>\n",
              "      \n",
              "  <style>\n",
              "    .colab-df-container {\n",
              "      display:flex;\n",
              "      flex-wrap:wrap;\n",
              "      gap: 12px;\n",
              "    }\n",
              "\n",
              "    .colab-df-convert {\n",
              "      background-color: #E8F0FE;\n",
              "      border: none;\n",
              "      border-radius: 50%;\n",
              "      cursor: pointer;\n",
              "      display: none;\n",
              "      fill: #1967D2;\n",
              "      height: 32px;\n",
              "      padding: 0 0 0 0;\n",
              "      width: 32px;\n",
              "    }\n",
              "\n",
              "    .colab-df-convert:hover {\n",
              "      background-color: #E2EBFA;\n",
              "      box-shadow: 0px 1px 2px rgba(60, 64, 67, 0.3), 0px 1px 3px 1px rgba(60, 64, 67, 0.15);\n",
              "      fill: #174EA6;\n",
              "    }\n",
              "\n",
              "    [theme=dark] .colab-df-convert {\n",
              "      background-color: #3B4455;\n",
              "      fill: #D2E3FC;\n",
              "    }\n",
              "\n",
              "    [theme=dark] .colab-df-convert:hover {\n",
              "      background-color: #434B5C;\n",
              "      box-shadow: 0px 1px 3px 1px rgba(0, 0, 0, 0.15);\n",
              "      filter: drop-shadow(0px 1px 2px rgba(0, 0, 0, 0.3));\n",
              "      fill: #FFFFFF;\n",
              "    }\n",
              "  </style>\n",
              "\n",
              "      <script>\n",
              "        const buttonEl =\n",
              "          document.querySelector('#df-1c5b680a-f1b9-4810-a4a6-41b3a7d8a491 button.colab-df-convert');\n",
              "        buttonEl.style.display =\n",
              "          google.colab.kernel.accessAllowed ? 'block' : 'none';\n",
              "\n",
              "        async function convertToInteractive(key) {\n",
              "          const element = document.querySelector('#df-1c5b680a-f1b9-4810-a4a6-41b3a7d8a491');\n",
              "          const dataTable =\n",
              "            await google.colab.kernel.invokeFunction('convertToInteractive',\n",
              "                                                     [key], {});\n",
              "          if (!dataTable) return;\n",
              "\n",
              "          const docLinkHtml = 'Like what you see? Visit the ' +\n",
              "            '<a target=\"_blank\" href=https://colab.research.google.com/notebooks/data_table.ipynb>data table notebook</a>'\n",
              "            + ' to learn more about interactive tables.';\n",
              "          element.innerHTML = '';\n",
              "          dataTable['output_type'] = 'display_data';\n",
              "          await google.colab.output.renderOutput(dataTable, element);\n",
              "          const docLink = document.createElement('div');\n",
              "          docLink.innerHTML = docLinkHtml;\n",
              "          element.appendChild(docLink);\n",
              "        }\n",
              "      </script>\n",
              "    </div>\n",
              "  </div>\n",
              "  "
            ]
          },
          "metadata": {},
          "execution_count": 32
        }
      ]
    },
    {
      "cell_type": "markdown",
      "source": [
        "Hypotheses: </br>\n",
        "H0: There is no significant difference in Mental instability or possibly suicidal between males and females.</br>\n",
        "H1: There is a significant difference in Mental instability or possibly suicidal between males and females."
      ],
      "metadata": {
        "id": "32_ZLURqifZ3"
      }
    },
    {
      "cell_type": "code",
      "source": [
        "M = df[df['Sex']=='M']\n",
        "F = df[df['Sex']=='F']\n",
        "\n",
        "\n",
        "M_mental = M['Mental_inst_count']\n",
        "F_mental = F['Mental_inst_count']\n",
        "\n",
        "#conduct ttest\n",
        "print('T-test between males and females:',stats.ttest_ind(M_mental, F_mental, equal_var=False)) #p value is significant"
      ],
      "metadata": {
        "colab": {
          "base_uri": "https://localhost:8080/"
        },
        "id": "XkdhwjwCwJlE",
        "outputId": "ade67d62-55d1-4e83-d263-cb462da1cada"
      },
      "execution_count": null,
      "outputs": [
        {
          "output_type": "stream",
          "name": "stdout",
          "text": [
            "T-test between males and females: Ttest_indResult(statistic=2.907530756162966, pvalue=0.0057205865818019631)\n"
          ]
        }
      ]
    },
    {
      "cell_type": "code",
      "source": [
        "M_mental"
      ],
      "metadata": {
        "colab": {
          "base_uri": "https://localhost:8080/"
        },
        "id": "j4XVSJ1gmGXc",
        "outputId": "31f1e406-d831-4f4d-f026-c839bb537334"
      },
      "execution_count": null,
      "outputs": [
        {
          "output_type": "execute_result",
          "data": {
            "text/plain": [
              "18      6\n",
              "19     16\n",
              "20      9\n",
              "21     61\n",
              "22     17\n",
              "23     10\n",
              "24     61\n",
              "25     28\n",
              "26     14\n",
              "27     26\n",
              "28     35\n",
              "29     33\n",
              "30    175\n",
              "31     64\n",
              "32     24\n",
              "33     25\n",
              "34     38\n",
              "35    221\n",
              "54      8\n",
              "55      9\n",
              "56      8\n",
              "57     71\n",
              "58     15\n",
              "59     11\n",
              "60     40\n",
              "61     28\n",
              "62     12\n",
              "63     15\n",
              "64     16\n",
              "65     28\n",
              "66    210\n",
              "67     29\n",
              "68     23\n",
              "69     14\n",
              "70     18\n",
              "71    254\n",
              "Name: Mental_inst_count, dtype: int64"
            ]
          },
          "metadata": {},
          "execution_count": 32
        }
      ]
    },
    {
      "cell_type": "code",
      "source": [
        "print('Mean for Mental instability or possibly suicidal, Male, Female:',M_mental.mean(), F_mental.mean())\n",
        "print('Standard deviation for Mental instability or possibly suicidal, Male, Female:',M_mental.std(), F_mental.std())\n",
        "     "
      ],
      "metadata": {
        "colab": {
          "base_uri": "https://localhost:8080/"
        },
        "id": "bLCxNjABqVKA",
        "outputId": "7d4b4e25-4e5a-405d-b7a2-93442b19018d"
      },
      "execution_count": null,
      "outputs": [
        {
          "output_type": "stream",
          "name": "stdout",
          "text": [
            "Mean for Mental instability or possibly suicidal, Male, Female: 46.4444444444 13.9166666667\n",
            "Standard deviation for Mental instability or possibly suicidal, Male, Female: 63.3856425584 22.0899136647\n"
          ]
        }
      ]
    },
    {
      "cell_type": "code",
      "source": [
        "cm = sms.CompareMeans(sms.DescrStatsW(M_mental), sms.DescrStatsW(F_mental))\n",
        "print('Confidence interval for Mental instability or possibly suicidal:',cm.tconfint_diff(usevar='unequal'))"
      ],
      "metadata": {
        "colab": {
          "base_uri": "https://localhost:8080/"
        },
        "id": "_UDxRICZxXtC",
        "outputId": "65718601-9e8d-4c30-ecc5-e9295681d7eb"
      },
      "execution_count": null,
      "outputs": [
        {
          "output_type": "stream",
          "name": "stdout",
          "text": [
            "Confidence interval for Mental instability or possibly suicidal: (9.971873710577583, 55.083681844977974)\n"
          ]
        }
      ]
    },
    {
      "cell_type": "code",
      "source": [
        "#degrees of freedom code for Welch test \n",
        "\n",
        "def welch_dof(x, y): \n",
        " \n",
        "    dof = (x.var()/x.size + y.var()/y.size)**2 / ((x.var()/x.size)**2 / (x.size-1) + (y.var()/y.size)**2 / (y.size-1))\n",
        "    return dof"
      ],
      "metadata": {
        "id": "Oo96CzM9xsIo"
      },
      "execution_count": null,
      "outputs": []
    },
    {
      "cell_type": "code",
      "source": [
        "#welch dof \n",
        "print('DOF for Mental instability or possibly suicidal:',welch_dof(M_mental, F_mental))"
      ],
      "metadata": {
        "colab": {
          "base_uri": "https://localhost:8080/"
        },
        "id": "IJS8gKJkxzX3",
        "outputId": "c3baea03-7eeb-4a6d-a8b6-4fffcd407e89"
      },
      "execution_count": null,
      "outputs": [
        {
          "output_type": "stream",
          "name": "stdout",
          "text": [
            "DOF for Mental instability or possibly suicidal: 43.3780881415\n"
          ]
        }
      ]
    },
    {
      "cell_type": "markdown",
      "source": [
        "UNPAIRED TWO SAMPLE T-TEST"
      ],
      "metadata": {
        "id": "6uDqv9GpyKbO"
      }
    },
    {
      "cell_type": "code",
      "source": [
        "#Then we can do multiple Unpaired Two Sample T-Test to see whether StripSearch varies in different groups of a variable.\n",
        "# Mental instability or possibly suicidal for 2 different Genders\n",
        "male_mental = df[\"Mental_inst_count\"][df[\"Sex\"] == \"M\"]\n",
        "female_mental = df[\"Mental_inst_count\"][df[\"Sex\"] == \"F\"]\n",
        "t_test_gender = stats.ttest_ind(male_mental, female_mental) # Do the t-test\n",
        "print(\"Two Sample T-test result for 2 different Genders:\\n\")\n",
        "print(t_test_gender)\n"
      ],
      "metadata": {
        "colab": {
          "base_uri": "https://localhost:8080/"
        },
        "id": "jR573iHDyKEp",
        "outputId": "cc6e399a-2002-4bdd-80c8-6faeecbbfe18"
      },
      "execution_count": null,
      "outputs": [
        {
          "output_type": "stream",
          "name": "stdout",
          "text": [
            "Two Sample T-test result for 2 different Genders:\n",
            "\n",
            "Ttest_indResult(statistic=2.907530756162966, pvalue=0.0048764190384856876)\n"
          ]
        }
      ]
    },
    {
      "cell_type": "code",
      "source": [
        "male_search = df2[\"StripSearch\"][df2[\"Sex\"] == \"M\"]\n",
        "female_search = df2[\"StripSearch\"][df2[\"Sex\"] == \"F\"]\n",
        "t_test_gender2 = stats.ttest_ind(male_search, female_search) # Do the t-test\n",
        "print(\"Two Sample T-test result for Strip Search in 2 different Genders:\\n\")\n",
        "print(t_test_gender2)\n"
      ],
      "metadata": {
        "id": "MRgV9Ts7FC8m",
        "colab": {
          "base_uri": "https://localhost:8080/"
        },
        "outputId": "b17c6b22-b763-4b7b-f89f-eded535e5e71"
      },
      "execution_count": null,
      "outputs": [
        {
          "output_type": "stream",
          "name": "stdout",
          "text": [
            "Two Sample T-test result for Strip Search in 2 different Genders:\n",
            "\n",
            "Ttest_indResult(statistic=2.1153284880872021, pvalue=0.044140920667480925)\n"
          ]
        }
      ]
    },
    {
      "cell_type": "markdown",
      "source": [
        "Two-way ANOVA</br>\n",
        "Hypotheses:</br>\n",
        "H0: There is no significant main effect of Sex or Age group at arrest on StripSearch.</br>\n",
        "H1: There is a significant main effect of Sex or Age group at arrest on StripSearch.</br>\n",
        "H2: There is a significant interaction effect between Sex and Age group at arrest on StripSearch.\n"
      ],
      "metadata": {
        "id": "-dnZ-HwuFrwz"
      }
    },
    {
      "cell_type": "code",
      "source": [
        "model1 = ols(\"StripSearch ~ C(Sex) + C(Age_group__at_arrest_) + C(Sex):C(Age_group__at_arrest_)\", data=df2).fit()\n",
        "aov_table1 = sm.stats.anova_lm(model1, typ=2)\n",
        "print(aov_table1)"
      ],
      "metadata": {
        "id": "p6zR102uFy35",
        "colab": {
          "base_uri": "https://localhost:8080/"
        },
        "outputId": "5d82d012-a682-4734-db01-d6e92d1bbdde"
      },
      "execution_count": 81,
      "outputs": [
        {
          "output_type": "stream",
          "name": "stdout",
          "text": [
            "                                       sum_sq    df         F    PR(>F)\n",
            "C(Sex)                           9.787580e+05   1.0  3.893754  0.068542\n",
            "C(Age_group__at_arrest_)         1.558988e+06   6.0  1.033677  0.444279\n",
            "C(Sex):C(Age_group__at_arrest_)  6.090137e+05   6.0  0.403802  0.864393\n",
            "Residual                         3.519126e+06  14.0       NaN       NaN\n"
          ]
        }
      ]
    },
    {
      "cell_type": "code",
      "source": [
        "model2 = ols(\"StripSearch ~ C(Year) + C(Age_group__at_arrest_) + C(Year):C(Age_group__at_arrest_)\", data=df2).fit()\n",
        "aov_table2 = sm.stats.anova_lm(model2, typ=2)\n",
        "print(aov_table2)"
      ],
      "metadata": {
        "colab": {
          "base_uri": "https://localhost:8080/"
        },
        "outputId": "4ec4fd52-3594-424e-a6c1-a6ed831c5216",
        "id": "c5zSgg15ObHj"
      },
      "execution_count": 82,
      "outputs": [
        {
          "output_type": "stream",
          "name": "stdout",
          "text": [
            "                                        sum_sq    df         F    PR(>F)\n",
            "C(Year)                           1.476144e+06   1.0  7.857849  0.014092\n",
            "C(Age_group__at_arrest_)          1.558988e+06   6.0  1.383141  0.287750\n",
            "C(Year):C(Age_group__at_arrest_)  1.000769e+06   6.0  0.887887  0.529137\n",
            "Residual                          2.629984e+06  14.0       NaN       NaN\n"
          ]
        }
      ]
    },
    {
      "cell_type": "code",
      "source": [
        "model3 = ols(\"StripSearch ~ C(Sex) + C(Year) + C(Sex):C(Year)\", data=df2).fit()\n",
        "aov_table3 = sm.stats.anova_lm(model3, typ=2)\n",
        "print(aov_table3)"
      ],
      "metadata": {
        "colab": {
          "base_uri": "https://localhost:8080/"
        },
        "outputId": "2e48321a-1c2f-4a7b-d2db-2a9fabe574bd",
        "id": "Mr0GgtQBObo6"
      },
      "execution_count": 83,
      "outputs": [
        {
          "output_type": "stream",
          "name": "stdout",
          "text": [
            "                      sum_sq    df         F    PR(>F)\n",
            "C(Sex)          9.787580e+05   1.0  6.622096  0.016678\n",
            "C(Year)         1.476144e+06   1.0  9.987320  0.004228\n",
            "C(Sex):C(Year)  6.637400e+05   1.0  4.490743  0.044619\n",
            "Residual        3.547244e+06  24.0       NaN       NaN\n"
          ]
        }
      ]
    },
    {
      "cell_type": "code",
      "source": [
        "model4 = ols(\"Mental_inst_count ~ C(Sex) + C(Year) + C(Sex):C(Year)\", data=df).fit()\n",
        "aov_table4 = sm.stats.anova_lm(model4, typ=2)\n",
        "print(aov_table4)"
      ],
      "metadata": {
        "colab": {
          "base_uri": "https://localhost:8080/"
        },
        "outputId": "99b2f902-8e37-4189-812d-cd68bf90acfc",
        "id": "CMr_BW3f3C3h"
      },
      "execution_count": 84,
      "outputs": [
        {
          "output_type": "stream",
          "name": "stdout",
          "text": [
            "                       sum_sq    df         F    PR(>F)\n",
            "C(Sex)           19045.013889   1.0  8.217059  0.005519\n",
            "C(Year)             15.125000   1.0  0.006526  0.935853\n",
            "C(Sex):C(Year)      78.125000   1.0  0.033707  0.854877\n",
            "Residual        157606.388889  68.0       NaN       NaN\n"
          ]
        }
      ]
    },
    {
      "cell_type": "code",
      "source": [
        "model5 = ols(\"Mental_inst_count ~ C(ArrestLocDiv) + C(Year) + C(ArrestLocDiv):C(Year)\", data=df).fit()\n",
        "aov_table5 = sm.stats.anova_lm(model5, typ=2)\n",
        "print(aov_table5)"
      ],
      "metadata": {
        "colab": {
          "base_uri": "https://localhost:8080/"
        },
        "outputId": "4d7772ea-a2ed-4a33-dfbf-7a18badc8726",
        "id": "YVauBSHX3DM8"
      },
      "execution_count": 85,
      "outputs": [
        {
          "output_type": "stream",
          "name": "stdout",
          "text": [
            "                                sum_sq    df         F    PR(>F)\n",
            "C(ArrestLocDiv)          123491.902778  17.0  5.170628  0.000017\n",
            "C(Year)                      15.125000   1.0  0.010766  0.917937\n",
            "C(ArrestLocDiv):C(Year)    2661.125000  17.0  0.111422  0.999993\n",
            "Residual                  50576.500000  36.0       NaN       NaN\n"
          ]
        }
      ]
    },
    {
      "cell_type": "code",
      "source": [
        "model6 = ols(\"Mental_inst_count ~ C(ArrestLocDiv) + C(Sex) + C(ArrestLocDiv):C(Sex)\", data=df).fit()\n",
        "aov_table6 = sm.stats.anova_lm(model6, typ=2)\n",
        "print(aov_table6)"
      ],
      "metadata": {
        "colab": {
          "base_uri": "https://localhost:8080/"
        },
        "outputId": "df42a7a5-052c-4fb9-e58e-559ac249d948",
        "id": "8xKmUWuh3wMS"
      },
      "execution_count": 86,
      "outputs": [
        {
          "output_type": "stream",
          "name": "stdout",
          "text": [
            "                               sum_sq    df           F        PR(>F)\n",
            "C(ArrestLocDiv)         123491.902778  17.0   72.511372  1.015776e-22\n",
            "C(Sex)                   19045.013889   1.0  190.106890  6.195673e-16\n",
            "C(ArrestLocDiv):C(Sex)   30601.236111  17.0   17.968284  1.031427e-12\n",
            "Residual                  3606.500000  36.0         NaN           NaN\n"
          ]
        }
      ]
    },
    {
      "cell_type": "code",
      "source": [
        "df2.loc[df2[\"Sex\"]==\"M\"]"
      ],
      "metadata": {
        "colab": {
          "base_uri": "https://localhost:8080/",
          "height": 488
        },
        "id": "TapxhUSuRfWc",
        "outputId": "f3ebf70f-338c-47c6-9710-b874dfd884b2"
      },
      "execution_count": null,
      "outputs": [
        {
          "output_type": "execute_result",
          "data": {
            "text/plain": [
              "    StripSearch Sex  Year Age_group__at_arrest_\n",
              "14          244   M  2020                   <17\n",
              "15            5   M  2021                   <17\n",
              "16         1046   M  2020                 18-24\n",
              "17           88   M  2021                 18-24\n",
              "18         2044   M  2020                 25-34\n",
              "19          205   M  2021                 25-34\n",
              "20         1555   M  2020                 35-44\n",
              "21          198   M  2021                 35-44\n",
              "22          719   M  2020                 45-54\n",
              "23           51   M  2021                 45-54\n",
              "24          309   M  2020                 55-64\n",
              "25           22   M  2021                 55-64\n",
              "26           27   M  2020                   >65\n",
              "27            5   M  2021                   >65"
            ],
            "text/html": [
              "\n",
              "  <div id=\"df-9dd73540-982e-44e6-9b0e-e4dce7029202\">\n",
              "    <div class=\"colab-df-container\">\n",
              "      <div>\n",
              "<style scoped>\n",
              "    .dataframe tbody tr th:only-of-type {\n",
              "        vertical-align: middle;\n",
              "    }\n",
              "\n",
              "    .dataframe tbody tr th {\n",
              "        vertical-align: top;\n",
              "    }\n",
              "\n",
              "    .dataframe thead th {\n",
              "        text-align: right;\n",
              "    }\n",
              "</style>\n",
              "<table border=\"1\" class=\"dataframe\">\n",
              "  <thead>\n",
              "    <tr style=\"text-align: right;\">\n",
              "      <th></th>\n",
              "      <th>StripSearch</th>\n",
              "      <th>Sex</th>\n",
              "      <th>Year</th>\n",
              "      <th>Age_group__at_arrest_</th>\n",
              "    </tr>\n",
              "  </thead>\n",
              "  <tbody>\n",
              "    <tr>\n",
              "      <th>14</th>\n",
              "      <td>244</td>\n",
              "      <td>M</td>\n",
              "      <td>2020</td>\n",
              "      <td>&lt;17</td>\n",
              "    </tr>\n",
              "    <tr>\n",
              "      <th>15</th>\n",
              "      <td>5</td>\n",
              "      <td>M</td>\n",
              "      <td>2021</td>\n",
              "      <td>&lt;17</td>\n",
              "    </tr>\n",
              "    <tr>\n",
              "      <th>16</th>\n",
              "      <td>1046</td>\n",
              "      <td>M</td>\n",
              "      <td>2020</td>\n",
              "      <td>18-24</td>\n",
              "    </tr>\n",
              "    <tr>\n",
              "      <th>17</th>\n",
              "      <td>88</td>\n",
              "      <td>M</td>\n",
              "      <td>2021</td>\n",
              "      <td>18-24</td>\n",
              "    </tr>\n",
              "    <tr>\n",
              "      <th>18</th>\n",
              "      <td>2044</td>\n",
              "      <td>M</td>\n",
              "      <td>2020</td>\n",
              "      <td>25-34</td>\n",
              "    </tr>\n",
              "    <tr>\n",
              "      <th>19</th>\n",
              "      <td>205</td>\n",
              "      <td>M</td>\n",
              "      <td>2021</td>\n",
              "      <td>25-34</td>\n",
              "    </tr>\n",
              "    <tr>\n",
              "      <th>20</th>\n",
              "      <td>1555</td>\n",
              "      <td>M</td>\n",
              "      <td>2020</td>\n",
              "      <td>35-44</td>\n",
              "    </tr>\n",
              "    <tr>\n",
              "      <th>21</th>\n",
              "      <td>198</td>\n",
              "      <td>M</td>\n",
              "      <td>2021</td>\n",
              "      <td>35-44</td>\n",
              "    </tr>\n",
              "    <tr>\n",
              "      <th>22</th>\n",
              "      <td>719</td>\n",
              "      <td>M</td>\n",
              "      <td>2020</td>\n",
              "      <td>45-54</td>\n",
              "    </tr>\n",
              "    <tr>\n",
              "      <th>23</th>\n",
              "      <td>51</td>\n",
              "      <td>M</td>\n",
              "      <td>2021</td>\n",
              "      <td>45-54</td>\n",
              "    </tr>\n",
              "    <tr>\n",
              "      <th>24</th>\n",
              "      <td>309</td>\n",
              "      <td>M</td>\n",
              "      <td>2020</td>\n",
              "      <td>55-64</td>\n",
              "    </tr>\n",
              "    <tr>\n",
              "      <th>25</th>\n",
              "      <td>22</td>\n",
              "      <td>M</td>\n",
              "      <td>2021</td>\n",
              "      <td>55-64</td>\n",
              "    </tr>\n",
              "    <tr>\n",
              "      <th>26</th>\n",
              "      <td>27</td>\n",
              "      <td>M</td>\n",
              "      <td>2020</td>\n",
              "      <td>&gt;65</td>\n",
              "    </tr>\n",
              "    <tr>\n",
              "      <th>27</th>\n",
              "      <td>5</td>\n",
              "      <td>M</td>\n",
              "      <td>2021</td>\n",
              "      <td>&gt;65</td>\n",
              "    </tr>\n",
              "  </tbody>\n",
              "</table>\n",
              "</div>\n",
              "      <button class=\"colab-df-convert\" onclick=\"convertToInteractive('df-9dd73540-982e-44e6-9b0e-e4dce7029202')\"\n",
              "              title=\"Convert this dataframe to an interactive table.\"\n",
              "              style=\"display:none;\">\n",
              "        \n",
              "  <svg xmlns=\"http://www.w3.org/2000/svg\" height=\"24px\"viewBox=\"0 0 24 24\"\n",
              "       width=\"24px\">\n",
              "    <path d=\"M0 0h24v24H0V0z\" fill=\"none\"/>\n",
              "    <path d=\"M18.56 5.44l.94 2.06.94-2.06 2.06-.94-2.06-.94-.94-2.06-.94 2.06-2.06.94zm-11 1L8.5 8.5l.94-2.06 2.06-.94-2.06-.94L8.5 2.5l-.94 2.06-2.06.94zm10 10l.94 2.06.94-2.06 2.06-.94-2.06-.94-.94-2.06-.94 2.06-2.06.94z\"/><path d=\"M17.41 7.96l-1.37-1.37c-.4-.4-.92-.59-1.43-.59-.52 0-1.04.2-1.43.59L10.3 9.45l-7.72 7.72c-.78.78-.78 2.05 0 2.83L4 21.41c.39.39.9.59 1.41.59.51 0 1.02-.2 1.41-.59l7.78-7.78 2.81-2.81c.8-.78.8-2.07 0-2.86zM5.41 20L4 18.59l7.72-7.72 1.47 1.35L5.41 20z\"/>\n",
              "  </svg>\n",
              "      </button>\n",
              "      \n",
              "  <style>\n",
              "    .colab-df-container {\n",
              "      display:flex;\n",
              "      flex-wrap:wrap;\n",
              "      gap: 12px;\n",
              "    }\n",
              "\n",
              "    .colab-df-convert {\n",
              "      background-color: #E8F0FE;\n",
              "      border: none;\n",
              "      border-radius: 50%;\n",
              "      cursor: pointer;\n",
              "      display: none;\n",
              "      fill: #1967D2;\n",
              "      height: 32px;\n",
              "      padding: 0 0 0 0;\n",
              "      width: 32px;\n",
              "    }\n",
              "\n",
              "    .colab-df-convert:hover {\n",
              "      background-color: #E2EBFA;\n",
              "      box-shadow: 0px 1px 2px rgba(60, 64, 67, 0.3), 0px 1px 3px 1px rgba(60, 64, 67, 0.15);\n",
              "      fill: #174EA6;\n",
              "    }\n",
              "\n",
              "    [theme=dark] .colab-df-convert {\n",
              "      background-color: #3B4455;\n",
              "      fill: #D2E3FC;\n",
              "    }\n",
              "\n",
              "    [theme=dark] .colab-df-convert:hover {\n",
              "      background-color: #434B5C;\n",
              "      box-shadow: 0px 1px 3px 1px rgba(0, 0, 0, 0.15);\n",
              "      filter: drop-shadow(0px 1px 2px rgba(0, 0, 0, 0.3));\n",
              "      fill: #FFFFFF;\n",
              "    }\n",
              "  </style>\n",
              "\n",
              "      <script>\n",
              "        const buttonEl =\n",
              "          document.querySelector('#df-9dd73540-982e-44e6-9b0e-e4dce7029202 button.colab-df-convert');\n",
              "        buttonEl.style.display =\n",
              "          google.colab.kernel.accessAllowed ? 'block' : 'none';\n",
              "\n",
              "        async function convertToInteractive(key) {\n",
              "          const element = document.querySelector('#df-9dd73540-982e-44e6-9b0e-e4dce7029202');\n",
              "          const dataTable =\n",
              "            await google.colab.kernel.invokeFunction('convertToInteractive',\n",
              "                                                     [key], {});\n",
              "          if (!dataTable) return;\n",
              "\n",
              "          const docLinkHtml = 'Like what you see? Visit the ' +\n",
              "            '<a target=\"_blank\" href=https://colab.research.google.com/notebooks/data_table.ipynb>data table notebook</a>'\n",
              "            + ' to learn more about interactive tables.';\n",
              "          element.innerHTML = '';\n",
              "          dataTable['output_type'] = 'display_data';\n",
              "          await google.colab.output.renderOutput(dataTable, element);\n",
              "          const docLink = document.createElement('div');\n",
              "          docLink.innerHTML = docLinkHtml;\n",
              "          element.appendChild(docLink);\n",
              "        }\n",
              "      </script>\n",
              "    </div>\n",
              "  </div>\n",
              "  "
            ]
          },
          "metadata": {},
          "execution_count": 42
        }
      ]
    },
    {
      "cell_type": "code",
      "source": [
        "df2.loc[df2[\"Sex\"] == \"F\"]"
      ],
      "metadata": {
        "colab": {
          "base_uri": "https://localhost:8080/",
          "height": 488
        },
        "id": "VGJ6oz3xPKeU",
        "outputId": "4487db67-ff26-47e5-932a-faebb049ce93"
      },
      "execution_count": null,
      "outputs": [
        {
          "output_type": "execute_result",
          "data": {
            "text/plain": [
              "    StripSearch Sex  Year Age_group__at_arrest_\n",
              "0            27   F  2020                   <17\n",
              "1             4   F  2021                   <17\n",
              "2           200   F  2020                 18-24\n",
              "3            15   F  2021                 18-24\n",
              "4           476   F  2020                 25-34\n",
              "5            46   F  2021                 25-34\n",
              "6           313   F  2020                 35-44\n",
              "7            32   F  2021                 35-44\n",
              "8           121   F  2020                 45-54\n",
              "9            14   F  2021                 45-54\n",
              "10           30   F  2020                 55-64\n",
              "11            1   F  2021                 55-64\n",
              "12            4   F  2020                   >65\n",
              "13            0   F  2021                   >65"
            ],
            "text/html": [
              "\n",
              "  <div id=\"df-78a08cec-f027-46a1-92c3-65e8f76b0102\">\n",
              "    <div class=\"colab-df-container\">\n",
              "      <div>\n",
              "<style scoped>\n",
              "    .dataframe tbody tr th:only-of-type {\n",
              "        vertical-align: middle;\n",
              "    }\n",
              "\n",
              "    .dataframe tbody tr th {\n",
              "        vertical-align: top;\n",
              "    }\n",
              "\n",
              "    .dataframe thead th {\n",
              "        text-align: right;\n",
              "    }\n",
              "</style>\n",
              "<table border=\"1\" class=\"dataframe\">\n",
              "  <thead>\n",
              "    <tr style=\"text-align: right;\">\n",
              "      <th></th>\n",
              "      <th>StripSearch</th>\n",
              "      <th>Sex</th>\n",
              "      <th>Year</th>\n",
              "      <th>Age_group__at_arrest_</th>\n",
              "    </tr>\n",
              "  </thead>\n",
              "  <tbody>\n",
              "    <tr>\n",
              "      <th>0</th>\n",
              "      <td>27</td>\n",
              "      <td>F</td>\n",
              "      <td>2020</td>\n",
              "      <td>&lt;17</td>\n",
              "    </tr>\n",
              "    <tr>\n",
              "      <th>1</th>\n",
              "      <td>4</td>\n",
              "      <td>F</td>\n",
              "      <td>2021</td>\n",
              "      <td>&lt;17</td>\n",
              "    </tr>\n",
              "    <tr>\n",
              "      <th>2</th>\n",
              "      <td>200</td>\n",
              "      <td>F</td>\n",
              "      <td>2020</td>\n",
              "      <td>18-24</td>\n",
              "    </tr>\n",
              "    <tr>\n",
              "      <th>3</th>\n",
              "      <td>15</td>\n",
              "      <td>F</td>\n",
              "      <td>2021</td>\n",
              "      <td>18-24</td>\n",
              "    </tr>\n",
              "    <tr>\n",
              "      <th>4</th>\n",
              "      <td>476</td>\n",
              "      <td>F</td>\n",
              "      <td>2020</td>\n",
              "      <td>25-34</td>\n",
              "    </tr>\n",
              "    <tr>\n",
              "      <th>5</th>\n",
              "      <td>46</td>\n",
              "      <td>F</td>\n",
              "      <td>2021</td>\n",
              "      <td>25-34</td>\n",
              "    </tr>\n",
              "    <tr>\n",
              "      <th>6</th>\n",
              "      <td>313</td>\n",
              "      <td>F</td>\n",
              "      <td>2020</td>\n",
              "      <td>35-44</td>\n",
              "    </tr>\n",
              "    <tr>\n",
              "      <th>7</th>\n",
              "      <td>32</td>\n",
              "      <td>F</td>\n",
              "      <td>2021</td>\n",
              "      <td>35-44</td>\n",
              "    </tr>\n",
              "    <tr>\n",
              "      <th>8</th>\n",
              "      <td>121</td>\n",
              "      <td>F</td>\n",
              "      <td>2020</td>\n",
              "      <td>45-54</td>\n",
              "    </tr>\n",
              "    <tr>\n",
              "      <th>9</th>\n",
              "      <td>14</td>\n",
              "      <td>F</td>\n",
              "      <td>2021</td>\n",
              "      <td>45-54</td>\n",
              "    </tr>\n",
              "    <tr>\n",
              "      <th>10</th>\n",
              "      <td>30</td>\n",
              "      <td>F</td>\n",
              "      <td>2020</td>\n",
              "      <td>55-64</td>\n",
              "    </tr>\n",
              "    <tr>\n",
              "      <th>11</th>\n",
              "      <td>1</td>\n",
              "      <td>F</td>\n",
              "      <td>2021</td>\n",
              "      <td>55-64</td>\n",
              "    </tr>\n",
              "    <tr>\n",
              "      <th>12</th>\n",
              "      <td>4</td>\n",
              "      <td>F</td>\n",
              "      <td>2020</td>\n",
              "      <td>&gt;65</td>\n",
              "    </tr>\n",
              "    <tr>\n",
              "      <th>13</th>\n",
              "      <td>0</td>\n",
              "      <td>F</td>\n",
              "      <td>2021</td>\n",
              "      <td>&gt;65</td>\n",
              "    </tr>\n",
              "  </tbody>\n",
              "</table>\n",
              "</div>\n",
              "      <button class=\"colab-df-convert\" onclick=\"convertToInteractive('df-78a08cec-f027-46a1-92c3-65e8f76b0102')\"\n",
              "              title=\"Convert this dataframe to an interactive table.\"\n",
              "              style=\"display:none;\">\n",
              "        \n",
              "  <svg xmlns=\"http://www.w3.org/2000/svg\" height=\"24px\"viewBox=\"0 0 24 24\"\n",
              "       width=\"24px\">\n",
              "    <path d=\"M0 0h24v24H0V0z\" fill=\"none\"/>\n",
              "    <path d=\"M18.56 5.44l.94 2.06.94-2.06 2.06-.94-2.06-.94-.94-2.06-.94 2.06-2.06.94zm-11 1L8.5 8.5l.94-2.06 2.06-.94-2.06-.94L8.5 2.5l-.94 2.06-2.06.94zm10 10l.94 2.06.94-2.06 2.06-.94-2.06-.94-.94-2.06-.94 2.06-2.06.94z\"/><path d=\"M17.41 7.96l-1.37-1.37c-.4-.4-.92-.59-1.43-.59-.52 0-1.04.2-1.43.59L10.3 9.45l-7.72 7.72c-.78.78-.78 2.05 0 2.83L4 21.41c.39.39.9.59 1.41.59.51 0 1.02-.2 1.41-.59l7.78-7.78 2.81-2.81c.8-.78.8-2.07 0-2.86zM5.41 20L4 18.59l7.72-7.72 1.47 1.35L5.41 20z\"/>\n",
              "  </svg>\n",
              "      </button>\n",
              "      \n",
              "  <style>\n",
              "    .colab-df-container {\n",
              "      display:flex;\n",
              "      flex-wrap:wrap;\n",
              "      gap: 12px;\n",
              "    }\n",
              "\n",
              "    .colab-df-convert {\n",
              "      background-color: #E8F0FE;\n",
              "      border: none;\n",
              "      border-radius: 50%;\n",
              "      cursor: pointer;\n",
              "      display: none;\n",
              "      fill: #1967D2;\n",
              "      height: 32px;\n",
              "      padding: 0 0 0 0;\n",
              "      width: 32px;\n",
              "    }\n",
              "\n",
              "    .colab-df-convert:hover {\n",
              "      background-color: #E2EBFA;\n",
              "      box-shadow: 0px 1px 2px rgba(60, 64, 67, 0.3), 0px 1px 3px 1px rgba(60, 64, 67, 0.15);\n",
              "      fill: #174EA6;\n",
              "    }\n",
              "\n",
              "    [theme=dark] .colab-df-convert {\n",
              "      background-color: #3B4455;\n",
              "      fill: #D2E3FC;\n",
              "    }\n",
              "\n",
              "    [theme=dark] .colab-df-convert:hover {\n",
              "      background-color: #434B5C;\n",
              "      box-shadow: 0px 1px 3px 1px rgba(0, 0, 0, 0.15);\n",
              "      filter: drop-shadow(0px 1px 2px rgba(0, 0, 0, 0.3));\n",
              "      fill: #FFFFFF;\n",
              "    }\n",
              "  </style>\n",
              "\n",
              "      <script>\n",
              "        const buttonEl =\n",
              "          document.querySelector('#df-78a08cec-f027-46a1-92c3-65e8f76b0102 button.colab-df-convert');\n",
              "        buttonEl.style.display =\n",
              "          google.colab.kernel.accessAllowed ? 'block' : 'none';\n",
              "\n",
              "        async function convertToInteractive(key) {\n",
              "          const element = document.querySelector('#df-78a08cec-f027-46a1-92c3-65e8f76b0102');\n",
              "          const dataTable =\n",
              "            await google.colab.kernel.invokeFunction('convertToInteractive',\n",
              "                                                     [key], {});\n",
              "          if (!dataTable) return;\n",
              "\n",
              "          const docLinkHtml = 'Like what you see? Visit the ' +\n",
              "            '<a target=\"_blank\" href=https://colab.research.google.com/notebooks/data_table.ipynb>data table notebook</a>'\n",
              "            + ' to learn more about interactive tables.';\n",
              "          element.innerHTML = '';\n",
              "          dataTable['output_type'] = 'display_data';\n",
              "          await google.colab.output.renderOutput(dataTable, element);\n",
              "          const docLink = document.createElement('div');\n",
              "          docLink.innerHTML = docLinkHtml;\n",
              "          element.appendChild(docLink);\n",
              "        }\n",
              "      </script>\n",
              "    </div>\n",
              "  </div>\n",
              "  "
            ]
          },
          "metadata": {},
          "execution_count": 43
        }
      ]
    },
    {
      "cell_type": "code",
      "source": [
        "male_2020 = [244,1046,2044,1555,719,309,27]\n",
        "male_2021 = [5,88,205,198,51,22,5]\n",
        "female_2020 = [27,200,476,313,121,30,4]\n",
        "female_2021 = [4,15,46,32,14,1,0]\n",
        "df_tukey = pd.DataFrame({'StripSearch':[244,1046,2044,1555,719,309,27,\n",
        "                      5,88,205,198,51,22,5,\n",
        "                      27,200,476,313,121,30,4,\n",
        "                      4,15,46,32,14,1,0],\n",
        "              'Group':np.repeat([\"male_2020\", \"male_2021\", \"female_2020\", \"female_2021\"], repeats=7)})\n",
        "tukey = pairwise_tukeyhsd(endog=df_tukey['StripSearch'],groups=df_tukey['Group'],alpha=0.05)\n",
        "print(tukey)"
      ],
      "metadata": {
        "colab": {
          "base_uri": "https://localhost:8080/"
        },
        "id": "gyLgm_1XRWjx",
        "outputId": "f2c83341-30b6-4911-e35a-ee00760d61d0"
      },
      "execution_count": null,
      "outputs": [
        {
          "output_type": "stream",
          "name": "stdout",
          "text": [
            "        Multiple Comparison of Means - Tukey HSD, FWER=0.05         \n",
            "====================================================================\n",
            "   group1      group2    meandiff p-adj    lower      upper   reject\n",
            "--------------------------------------------------------------------\n",
            "female_2020 female_2021 -151.2857 0.8746   -718.202  415.6306  False\n",
            "female_2020   male_2020  681.8571 0.0143   114.9408 1248.7735   True\n",
            "female_2020   male_2021  -85.2857    0.9   -652.202  481.6306  False\n",
            "female_2021   male_2020  833.1429 0.0024   266.2265 1400.0592   True\n",
            "female_2021   male_2021      66.0    0.9  -500.9163  632.9163  False\n",
            "  male_2020   male_2021 -767.1429 0.0053 -1334.0592 -200.2265   True\n",
            "--------------------------------------------------------------------\n"
          ]
        }
      ]
    },
    {
      "cell_type": "markdown",
      "source": [
        "#Interaction plot"
      ],
      "metadata": {
        "id": "clkeQXIT1SCn"
      }
    },
    {
      "cell_type": "code",
      "source": [
        "df['Year'] = df['Year'].astype(\"string\")"
      ],
      "metadata": {
        "id": "LO01aSeK1rce"
      },
      "execution_count": null,
      "outputs": []
    },
    {
      "cell_type": "code",
      "source": [
        "df['Year']"
      ],
      "metadata": {
        "colab": {
          "base_uri": "https://localhost:8080/"
        },
        "id": "6Lm1PWQu1WU8",
        "outputId": "eb293957-a549-4db4-b880-38ff4341a629"
      },
      "execution_count": null,
      "outputs": [
        {
          "output_type": "execute_result",
          "data": {
            "text/plain": [
              "0     2020\n",
              "1     2020\n",
              "2     2020\n",
              "3     2020\n",
              "4     2020\n",
              "      ... \n",
              "67    2021\n",
              "68    2021\n",
              "69    2021\n",
              "70    2021\n",
              "71    2021\n",
              "Name: Year, Length: 72, dtype: string"
            ]
          },
          "metadata": {},
          "execution_count": 46
        }
      ]
    },
    {
      "cell_type": "code",
      "source": [
        "year = df['Sex'].astype(\"category\")\n",
        "mental = df['Mental_inst_count'].values\n",
        "\n",
        "\n",
        "interaction = interaction_plot(df['ArrestLocDiv'], year, mental, colors=['red','blue'], markers=['D','^'], ms=5)\n",
        "#x axis(m_edu), trace (romantic status of the student), dependent variable (mean grade)\n",
        "\n",
        "\n",
        "plt.ylabel('Mean Case Number')\n",
        "plt.xlabel('Location Code Number')\n",
        "plt.title('Interaction Plot to show mean of Mental instability or possibly suicidal cases by location and relationship status', fontweight='bold')\n",
        "plt.show()"
      ],
      "metadata": {
        "id": "urMhPzqX1fZ2",
        "colab": {
          "base_uri": "https://localhost:8080/",
          "height": 844
        },
        "outputId": "131603da-b594-4e90-c39e-bc9d1f91c8d3"
      },
      "execution_count": null,
      "outputs": [
        {
          "output_type": "display_data",
          "data": {
            "text/plain": [
              "<Figure size 1440x1008 with 1 Axes>"
            ],
            "image/png": "[encoded data removed]"
          },
          "metadata": {}
        }
      ]
    },
    {
      "cell_type": "code",
      "source": [
        "sex = df2['Sex'].astype(\"category\")\n",
        "stripsearch = df2['StripSearch'].values\n",
        "interaction = interaction_plot(df2['Age_group__at_arrest_'], sex, stripsearch, colors=['red','blue'], markers=['D','^'], ms=5)\n",
        "plt.ylabel('Mean Case Number')\n",
        "plt.xlabel('Age Group')\n",
        "plt.title('Interaction Plot to show mean of Strip Search cases by sex and Age group status', fontweight='bold')\n",
        "plt.show()"
      ],
      "metadata": {
        "colab": {
          "base_uri": "https://localhost:8080/",
          "height": 844
        },
        "id": "QQubADUMH_Rk",
        "outputId": "1afafb6c-6fa0-4b8b-ad08-f90973a6328a"
      },
      "execution_count": null,
      "outputs": [
        {
          "output_type": "display_data",
          "data": {
            "text/plain": [
              "<Figure size 1440x1008 with 1 Axes>"
            ],
            "image/png": "[encoded data removed]"
          },
          "metadata": {}
        }
      ]
    },
    {
      "cell_type": "markdown",
      "source": [
        "# ANCOVA"
      ],
      "metadata": {
        "id": "vfDTl_Tatrc7"
      }
    },
    {
      "cell_type": "code",
      "source": [
        "# Perform the ANCOVA (We will analyze the effect of Sex on the Mental_inst_count while controlling for the covariate Year.)\n",
        "model = ols('Mental_inst_count ~ Sex + Year', data=df).fit()"
      ],
      "metadata": {
        "id": "jObSgU_6trFC"
      },
      "execution_count": null,
      "outputs": []
    },
    {
      "cell_type": "code",
      "source": [
        "# Print the summary of the model\n",
        "print(model.summary())"
      ],
      "metadata": {
        "colab": {
          "base_uri": "https://localhost:8080/"
        },
        "id": "OZxlwj0Txm2D",
        "outputId": "950e87ca-43c8-4c0a-c902-d7a6401f0e0c"
      },
      "execution_count": null,
      "outputs": [
        {
          "output_type": "stream",
          "name": "stdout",
          "text": [
            "                            OLS Regression Results                            \n",
            "==============================================================================\n",
            "Dep. Variable:      Mental_inst_count   R-squared:                       0.108\n",
            "Model:                            OLS   Adj. R-squared:                  0.082\n",
            "Method:                 Least Squares   F-statistic:                     4.170\n",
            "Date:                Wed, 12 Apr 2023   Prob (F-statistic):             0.0195\n",
            "Time:                        18:42:11   Log-Likelihood:                -379.06\n",
            "No. Observations:                  72   AIC:                             764.1\n",
            "Df Residuals:                      69   BIC:                             771.0\n",
            "Df Model:                           2                                         \n",
            "Covariance Type:            nonrobust                                         \n",
            "================================================================================\n",
            "                   coef    std err          t      P>|t|      [0.025      0.975]\n",
            "--------------------------------------------------------------------------------\n",
            "Intercept       14.3750      9.758      1.473      0.145      -5.092      33.842\n",
            "Sex[T.M]        32.5278     11.268      2.887      0.005      10.049      55.006\n",
            "Year[T.2021]    -0.9167     11.268     -0.081      0.935     -23.395      21.562\n",
            "==============================================================================\n",
            "Omnibus:                       64.457   Durbin-Watson:                   1.838\n",
            "Prob(Omnibus):                  0.000   Jarque-Bera (JB):              303.921\n",
            "Skew:                           2.866   Prob(JB):                     1.01e-66\n",
            "Kurtosis:                      11.274   Cond. No.                         3.19\n",
            "==============================================================================\n",
            "\n",
            "Notes:\n",
            "[1] Standard Errors assume that the covariance matrix of the errors is correctly specified.\n"
          ]
        }
      ]
    },
    {
      "cell_type": "code",
      "source": [
        "# Perform the ANCOVA (We will analyze the effect of Sex on the Mental_inst_count while controlling for the area.)\n",
        "model = ols('Mental_inst_count ~ Sex + ArrestLocDiv', data=df).fit()\n",
        "print(model.summary())"
      ],
      "metadata": {
        "colab": {
          "base_uri": "https://localhost:8080/"
        },
        "id": "U7fdm6gEyLgC",
        "outputId": "1e2badf4-060c-460a-f053-0e2c096b1120"
      },
      "execution_count": null,
      "outputs": [
        {
          "output_type": "stream",
          "name": "stdout",
          "text": [
            "                            OLS Regression Results                            \n",
            "==============================================================================\n",
            "Dep. Variable:      Mental_inst_count   R-squared:                       0.806\n",
            "Model:                            OLS   Adj. R-squared:                  0.741\n",
            "Method:                 Least Squares   F-statistic:                     12.27\n",
            "Date:                Wed, 12 Apr 2023   Prob (F-statistic):           5.00e-13\n",
            "Time:                        18:45:36   Log-Likelihood:                -324.05\n",
            "No. Observations:                  72   AIC:                             686.1\n",
            "Df Residuals:                      53   BIC:                             729.4\n",
            "Df Model:                          18                                         \n",
            "Covariance Type:            nonrobust                                         \n",
            "======================================================================================\n",
            "                         coef    std err          t      P>|t|      [0.025      0.975]\n",
            "--------------------------------------------------------------------------------------\n",
            "Intercept            -10.5139     13.051     -0.806      0.424     -36.690      15.663\n",
            "Sex[T.M]              32.5278      5.988      5.432      0.000      20.517      44.538\n",
            "ArrestLocDiv[T.12]     2.7500     17.964      0.153      0.879     -33.282      38.782\n",
            "ArrestLocDiv[T.13]    -0.5000     17.964     -0.028      0.978     -36.532      35.532\n",
            "ArrestLocDiv[T.14]    34.5000     17.964      1.920      0.060      -1.532      70.532\n",
            "ArrestLocDiv[T.22]     4.2500     17.964      0.237      0.814     -31.782      40.282\n",
            "ArrestLocDiv[T.23]     0.5000     17.964      0.028      0.978     -35.532      36.532\n",
            "ArrestLocDiv[T.31]    25.7500     17.964      1.433      0.158     -10.282      61.782\n",
            "ArrestLocDiv[T.32]    11.2500     17.964      0.626      0.534     -24.782      47.282\n",
            "ArrestLocDiv[T.33]     3.2500     17.964      0.181      0.857     -32.782      39.282\n",
            "ArrestLocDiv[T.41]     8.7500     17.964      0.487      0.628     -27.282      44.782\n",
            "ArrestLocDiv[T.42]     9.5000     17.964      0.529      0.599     -26.532      45.532\n",
            "ArrestLocDiv[T.43]    14.7500     17.964      0.821      0.415     -21.282      50.782\n",
            "ArrestLocDiv[T.51]   120.2500     17.964      6.694      0.000      84.218     156.282\n",
            "ArrestLocDiv[T.52]    21.5000     17.964      1.197      0.237     -14.532      57.532\n",
            "ArrestLocDiv[T.53]     8.5000     17.964      0.473      0.638     -27.532      44.532\n",
            "ArrestLocDiv[T.54]     9.2500     17.964      0.515      0.609     -26.782      45.282\n",
            "ArrestLocDiv[T.55]    10.5000     17.964      0.584      0.561     -25.532      46.532\n",
            "ArrestLocDiv[T.XX]   155.0000     17.964      8.628      0.000     118.968     191.032\n",
            "==============================================================================\n",
            "Omnibus:                       14.420   Durbin-Watson:                   1.681\n",
            "Prob(Omnibus):                  0.001   Jarque-Bera (JB):               60.469\n",
            "Skew:                           0.041   Prob(JB):                     7.40e-14\n",
            "Kurtosis:                       7.489   Cond. No.                         21.5\n",
            "==============================================================================\n",
            "\n",
            "Notes:\n",
            "[1] Standard Errors assume that the covariance matrix of the errors is correctly specified.\n"
          ]
        }
      ]
    },
    {
      "cell_type": "code",
      "source": [
        "# Perform the ANCOVA (We will analyze the effect of Sex on the StripSearch while controlling for the covariate Year.)\n",
        "model = ols('StripSearch ~ Sex + Year', data=df2).fit()\n",
        "print(model.summary())"
      ],
      "metadata": {
        "colab": {
          "base_uri": "https://localhost:8080/"
        },
        "id": "lcuOpcxe1aKk",
        "outputId": "d3cc54cd-f622-41f9-fddb-041cef73540a"
      },
      "execution_count": null,
      "outputs": [
        {
          "output_type": "stream",
          "name": "stdout",
          "text": [
            "                            OLS Regression Results                            \n",
            "==============================================================================\n",
            "Dep. Variable:            StripSearch   R-squared:                       0.368\n",
            "Model:                            OLS   Adj. R-squared:                  0.318\n",
            "Method:                 Least Squares   F-statistic:                     7.287\n",
            "Date:                Wed, 12 Apr 2023   Prob (F-statistic):            0.00321\n",
            "Time:                        19:06:08   Log-Likelihood:                -206.62\n",
            "No. Observations:                  28   AIC:                             419.2\n",
            "Df Residuals:                      25   BIC:                             423.2\n",
            "Df Model:                           2                                         \n",
            "Covariance Type:            nonrobust                                         \n",
            "================================================================================\n",
            "                   coef    std err          t      P>|t|      [0.025      0.975]\n",
            "--------------------------------------------------------------------------------\n",
            "Intercept      321.2500    134.339      2.391      0.025      44.573     597.927\n",
            "Sex[T.M]       373.9286    155.122      2.411      0.024      54.449     693.408\n",
            "Year[T.2021]  -459.2143    155.122     -2.960      0.007    -778.694    -139.735\n",
            "==============================================================================\n",
            "Omnibus:                       19.236   Durbin-Watson:                   2.067\n",
            "Prob(Omnibus):                  0.000   Jarque-Bera (JB):               26.703\n",
            "Skew:                           1.579   Prob(JB):                     1.59e-06\n",
            "Kurtosis:                       6.593   Cond. No.                         3.19\n",
            "==============================================================================\n",
            "\n",
            "Notes:\n",
            "[1] Standard Errors assume that the covariance matrix of the errors is correctly specified.\n"
          ]
        }
      ]
    },
    {
      "cell_type": "code",
      "source": [
        "# Perform the ANCOVA (We will analyze the effect of Sex on the StripSearch while controlling for Age_group__at_arrest_.)\n",
        "model = ols('StripSearch ~ Sex + Age_group__at_arrest_', data=df2).fit()\n",
        "print(model.summary())"
      ],
      "metadata": {
        "colab": {
          "base_uri": "https://localhost:8080/"
        },
        "id": "rnWvAh473He4",
        "outputId": "cf3fa808-219c-4978-f09b-2480c0048ef5"
      },
      "execution_count": null,
      "outputs": [
        {
          "output_type": "stream",
          "name": "stdout",
          "text": [
            "                            OLS Regression Results                            \n",
            "==============================================================================\n",
            "Dep. Variable:            StripSearch   R-squared:                       0.381\n",
            "Model:                            OLS   Adj. R-squared:                  0.164\n",
            "Method:                 Least Squares   F-statistic:                     1.756\n",
            "Date:                Wed, 12 Apr 2023   Prob (F-statistic):              0.153\n",
            "Time:                        19:06:45   Log-Likelihood:                -206.35\n",
            "No. Observations:                  28   AIC:                             428.7\n",
            "Df Residuals:                      20   BIC:                             439.3\n",
            "Df Model:                           7                                         \n",
            "Covariance Type:            nonrobust                                         \n",
            "==================================================================================================\n",
            "                                     coef    std err          t      P>|t|      [0.025      0.975]\n",
            "--------------------------------------------------------------------------------------------------\n",
            "Intercept                        150.2857    242.844      0.619      0.543    -356.279     656.850\n",
            "Sex[T.M]                         373.9286    171.717      2.178      0.042      15.733     732.124\n",
            "Age_group__at_arrest_[T.25-34]   355.5000    321.253      1.107      0.282    -314.622    1025.622\n",
            "Age_group__at_arrest_[T.35-44]   187.2500    321.253      0.583      0.566    -482.872     857.372\n",
            "Age_group__at_arrest_[T.45-54]  -111.0000    321.253     -0.346      0.733    -781.122     559.122\n",
            "Age_group__at_arrest_[T.55-64]  -246.7500    321.253     -0.768      0.451    -916.872     423.372\n",
            "Age_group__at_arrest_[T.<17]    -267.2500    321.253     -0.832      0.415    -937.372     402.872\n",
            "Age_group__at_arrest_[T.>65]    -328.2500    321.253     -1.022      0.319    -998.372     341.872\n",
            "==============================================================================\n",
            "Omnibus:                        9.509   Durbin-Watson:                   3.333\n",
            "Prob(Omnibus):                  0.009   Jarque-Bera (JB):                8.034\n",
            "Skew:                           1.024   Prob(JB):                       0.0180\n",
            "Kurtosis:                       4.640   Cond. No.                         8.88\n",
            "==============================================================================\n",
            "\n",
            "Notes:\n",
            "[1] Standard Errors assume that the covariance matrix of the errors is correctly specified.\n"
          ]
        }
      ]
    },
    {
      "cell_type": "markdown",
      "source": [
        "Logistic Regression"
      ],
      "metadata": {
        "id": "EWZ2lhUX2ET1"
      }
    },
    {
      "cell_type": "code",
      "source": [
        "dataset1 = dataset\n",
        "dataset1 = dataset1.drop(['Arrest_Month', 'EventID', 'ArrestID', 'PersonID', 'Perceived_Race', 'Youth_at_arrest__under_18_years', 'Occurrence_Category', 'SearchReason_CauseInjury', 'SearchReason_AssistEscape', 'SearchReason_PossessWeapons', 'SearchReason_PossessEvidence', 'ItemsFound', 'ObjectId', 'Actions_at_arrest___Concealed_i', 'Actions_at_arrest___Combative__', 'Actions_at_arrest___Resisted__d', 'Actions_at_arrest___Assaulted_o', 'Actions_at_arrest___Cooperative', 'Booked'], axis=1)\n",
        "dataset1 = dataset1.dropna().copy()\n",
        "dataset1.info()"
      ],
      "metadata": {
        "colab": {
          "base_uri": "https://localhost:8080/"
        },
        "id": "jM33Pn172DYo",
        "outputId": "8ef1bf9f-f801-4566-c0fd-296a0b83303e"
      },
      "execution_count": 87,
      "outputs": [
        {
          "output_type": "stream",
          "name": "stdout",
          "text": [
            "<class 'pandas.core.frame.DataFrame'>\n",
            "Int64Index: 65252 entries, 0 to 65275\n",
            "Data columns (total 6 columns):\n",
            " #   Column                           Non-Null Count  Dtype \n",
            "---  ------                           --------------  ----- \n",
            " 0   Arrest_Year                      65252 non-null  int64 \n",
            " 1   Sex                              65252 non-null  object\n",
            " 2   Age_group__at_arrest_            65252 non-null  object\n",
            " 3   ArrestLocDiv                     65252 non-null  object\n",
            " 4   StripSearch                      65252 non-null  int64 \n",
            " 5   Actions_at_arrest___Mental_inst  65252 non-null  int64 \n",
            "dtypes: int64(3), object(3)\n",
            "memory usage: 3.5+ MB\n"
          ]
        }
      ]
    },
    {
      "cell_type": "code",
      "source": [
        "X = dataset1.drop(['ArrestLocDiv','StripSearch','Actions_at_arrest___Mental_inst'], axis=1)\n",
        "y = dataset1['StripSearch']\n",
        "X_train, X_test, y_train, y_test = train_test_split(X, y, test_size=0.2, random_state=0)\n",
        "\n",
        "import statsmodels.formula.api as smf\n",
        "formula = \"StripSearch ~ Arrest_Year + Sex + Age_group__at_arrest_\" \n",
        "trainingdata = pd.concat([X_train,y_train], axis = 1)\n",
        "log_reg_1 = smf.logit(formula, data=trainingdata).fit()\n",
        "log_reg_1.summary()"
      ],
      "metadata": {
        "colab": {
          "base_uri": "https://localhost:8080/",
          "height": 563
        },
        "id": "EnkHvn-U2SXh",
        "outputId": "f81328f9-a800-4a9c-b0b3-6ce9b25c322f"
      },
      "execution_count": 88,
      "outputs": [
        {
          "output_type": "stream",
          "name": "stdout",
          "text": [
            "Warning: Maximum number of iterations has been exceeded.\n",
            "         Current function value: 0.306646\n",
            "         Iterations: 35\n"
          ]
        },
        {
          "output_type": "stream",
          "name": "stderr",
          "text": [
            "/usr/local/lib/python3.9/dist-packages/statsmodels/base/model.py:604: ConvergenceWarning: Maximum Likelihood optimization failed to converge. Check mle_retvals\n",
            "  warnings.warn(\"Maximum Likelihood optimization failed to \"\n"
          ]
        },
        {
          "output_type": "execute_result",
          "data": {
            "text/plain": [
              "<class 'statsmodels.iolib.summary.Summary'>\n",
              "\"\"\"\n",
              "                           Logit Regression Results                           \n",
              "==============================================================================\n",
              "Dep. Variable:            StripSearch   No. Observations:                52201\n",
              "Model:                          Logit   Df Residuals:                    52189\n",
              "Method:                           MLE   Df Model:                           11\n",
              "Date:                Fri, 14 Apr 2023   Pseudo R-squ.:                  0.1625\n",
              "Time:                        22:26:53   Log-Likelihood:                -16007.\n",
              "converged:                      False   LL-Null:                       -19114.\n",
              "Covariance Type:            nonrobust   LLR p-value:                     0.000\n",
              "======================================================================================================================\n",
              "                                                         coef    std err          z      P>|z|      [0.025      0.975]\n",
              "----------------------------------------------------------------------------------------------------------------------\n",
              "Intercept                                           5345.9212     94.627     56.495      0.000    5160.455    5531.387\n",
              "Sex[T.M]                                               0.2364      0.038      6.224      0.000       0.162       0.311\n",
              "Sex[T.U]                                              -2.1042      3.144     -0.669      0.503      -8.267       4.059\n",
              "Age_group__at_arrest_[T.Aged 17 years and younger]     0.7002      0.390      1.797      0.072      -0.063       1.464\n",
              "Age_group__at_arrest_[T.Aged 18 to 24 years]           1.2088      0.383      3.155      0.002       0.458       1.960\n",
              "Age_group__at_arrest_[T.Aged 25 to 34 years]           1.2764      0.382      3.339      0.001       0.527       2.026\n",
              "Age_group__at_arrest_[T.Aged 35 to 44 years]           1.3180      0.382      3.446      0.001       0.568       2.067\n",
              "Age_group__at_arrest_[T.Aged 45 to 54 years]           0.9386      0.384      2.446      0.014       0.187       1.691\n",
              "Age_group__at_arrest_[T.Aged 55 to 64 years]           0.6617      0.387      1.711      0.087      -0.096       1.420\n",
              "Age_group__at_arrest_[T.Aged 65 and older]            -0.5023      0.432     -1.163      0.245      -1.349       0.344\n",
              "Age_group__at_arrest_[T.Aged 65 years and older]       0.0645      0.629      0.103      0.918      -1.168       1.297\n",
              "Arrest_Year                                           -2.6478      0.047    -56.550      0.000      -2.740      -2.556\n",
              "======================================================================================================================\n",
              "\"\"\""
            ],
            "text/html": [
              "<table class=\"simpletable\">\n",
              "<caption>Logit Regression Results</caption>\n",
              "<tr>\n",
              "  <th>Dep. Variable:</th>      <td>StripSearch</td>   <th>  No. Observations:  </th>  <td> 52201</td> \n",
              "</tr>\n",
              "<tr>\n",
              "  <th>Model:</th>                 <td>Logit</td>      <th>  Df Residuals:      </th>  <td> 52189</td> \n",
              "</tr>\n",
              "<tr>\n",
              "  <th>Method:</th>                 <td>MLE</td>       <th>  Df Model:          </th>  <td>    11</td> \n",
              "</tr>\n",
              "<tr>\n",
              "  <th>Date:</th>            <td>Fri, 14 Apr 2023</td> <th>  Pseudo R-squ.:     </th>  <td>0.1625</td> \n",
              "</tr>\n",
              "<tr>\n",
              "  <th>Time:</th>                <td>22:26:53</td>     <th>  Log-Likelihood:    </th> <td> -16007.</td>\n",
              "</tr>\n",
              "<tr>\n",
              "  <th>converged:</th>             <td>False</td>      <th>  LL-Null:           </th> <td> -19114.</td>\n",
              "</tr>\n",
              "<tr>\n",
              "  <th>Covariance Type:</th>     <td>nonrobust</td>    <th>  LLR p-value:       </th>  <td> 0.000</td> \n",
              "</tr>\n",
              "</table>\n",
              "<table class=\"simpletable\">\n",
              "<tr>\n",
              "                           <td></td>                             <th>coef</th>     <th>std err</th>      <th>z</th>      <th>P>|z|</th>  <th>[0.025</th>    <th>0.975]</th>  \n",
              "</tr>\n",
              "<tr>\n",
              "  <th>Intercept</th>                                          <td> 5345.9212</td> <td>   94.627</td> <td>   56.495</td> <td> 0.000</td> <td> 5160.455</td> <td> 5531.387</td>\n",
              "</tr>\n",
              "<tr>\n",
              "  <th>Sex[T.M]</th>                                           <td>    0.2364</td> <td>    0.038</td> <td>    6.224</td> <td> 0.000</td> <td>    0.162</td> <td>    0.311</td>\n",
              "</tr>\n",
              "<tr>\n",
              "  <th>Sex[T.U]</th>                                           <td>   -2.1042</td> <td>    3.144</td> <td>   -0.669</td> <td> 0.503</td> <td>   -8.267</td> <td>    4.059</td>\n",
              "</tr>\n",
              "<tr>\n",
              "  <th>Age_group__at_arrest_[T.Aged 17 years and younger]</th> <td>    0.7002</td> <td>    0.390</td> <td>    1.797</td> <td> 0.072</td> <td>   -0.063</td> <td>    1.464</td>\n",
              "</tr>\n",
              "<tr>\n",
              "  <th>Age_group__at_arrest_[T.Aged 18 to 24 years]</th>       <td>    1.2088</td> <td>    0.383</td> <td>    3.155</td> <td> 0.002</td> <td>    0.458</td> <td>    1.960</td>\n",
              "</tr>\n",
              "<tr>\n",
              "  <th>Age_group__at_arrest_[T.Aged 25 to 34 years]</th>       <td>    1.2764</td> <td>    0.382</td> <td>    3.339</td> <td> 0.001</td> <td>    0.527</td> <td>    2.026</td>\n",
              "</tr>\n",
              "<tr>\n",
              "  <th>Age_group__at_arrest_[T.Aged 35 to 44 years]</th>       <td>    1.3180</td> <td>    0.382</td> <td>    3.446</td> <td> 0.001</td> <td>    0.568</td> <td>    2.067</td>\n",
              "</tr>\n",
              "<tr>\n",
              "  <th>Age_group__at_arrest_[T.Aged 45 to 54 years]</th>       <td>    0.9386</td> <td>    0.384</td> <td>    2.446</td> <td> 0.014</td> <td>    0.187</td> <td>    1.691</td>\n",
              "</tr>\n",
              "<tr>\n",
              "  <th>Age_group__at_arrest_[T.Aged 55 to 64 years]</th>       <td>    0.6617</td> <td>    0.387</td> <td>    1.711</td> <td> 0.087</td> <td>   -0.096</td> <td>    1.420</td>\n",
              "</tr>\n",
              "<tr>\n",
              "  <th>Age_group__at_arrest_[T.Aged 65 and older]</th>         <td>   -0.5023</td> <td>    0.432</td> <td>   -1.163</td> <td> 0.245</td> <td>   -1.349</td> <td>    0.344</td>\n",
              "</tr>\n",
              "<tr>\n",
              "  <th>Age_group__at_arrest_[T.Aged 65 years and older]</th>   <td>    0.0645</td> <td>    0.629</td> <td>    0.103</td> <td> 0.918</td> <td>   -1.168</td> <td>    1.297</td>\n",
              "</tr>\n",
              "<tr>\n",
              "  <th>Arrest_Year</th>                                        <td>   -2.6478</td> <td>    0.047</td> <td>  -56.550</td> <td> 0.000</td> <td>   -2.740</td> <td>   -2.556</td>\n",
              "</tr>\n",
              "</table>"
            ]
          },
          "metadata": {},
          "execution_count": 88
        }
      ]
    },
    {
      "cell_type": "code",
      "source": [
        "from sklearn.metrics import confusion_matrix, accuracy_score\n",
        "pred_1 = log_reg_1.predict(X_test)\n",
        "prediction_1 = list(map(round, pred_1))\n",
        "print('\\nTest accuracy = ', accuracy_score(y_test, prediction_1))\n",
        "cm = confusion_matrix(y_test, prediction_1) \n",
        "print (\"\\nConfusion Matrix : \\n\", cm)"
      ],
      "metadata": {
        "colab": {
          "base_uri": "https://localhost:8080/"
        },
        "id": "_AK8ekQH2U4B",
        "outputId": "083b1411-de25-4d3d-fc03-593ce5273c6c"
      },
      "execution_count": 89,
      "outputs": [
        {
          "output_type": "stream",
          "name": "stdout",
          "text": [
            "\n",
            "Test accuracy =  0.880698797027\n",
            "\n",
            "Confusion Matrix : \n",
            " [[11494     0]\n",
            " [ 1557     0]]\n"
          ]
        }
      ]
    },
    {
      "cell_type": "code",
      "source": [
        "model_odds = pd.DataFrame(np.exp(log_reg_1.params), columns= ['OR'])\n",
        "model_odds['z-value']= log_reg_1.pvalues\n",
        "model_odds[['2.5%', '97.5%']] = np.exp(log_reg_1.conf_int())\n",
        "model_odds"
      ],
      "metadata": {
        "colab": {
          "base_uri": "https://localhost:8080/",
          "height": 495
        },
        "id": "Cp4tQI5o2Zab",
        "outputId": "5215b93b-7a15-40ce-bcf6-445e3bbe605d"
      },
      "execution_count": 90,
      "outputs": [
        {
          "output_type": "stream",
          "name": "stderr",
          "text": [
            "/usr/local/lib/python3.9/dist-packages/pandas/core/arraylike.py:402: RuntimeWarning: overflow encountered in exp\n",
            "  result = getattr(ufunc, method)(*inputs, **kwargs)\n",
            "/usr/local/lib/python3.9/dist-packages/pandas/core/internals/blocks.py:351: RuntimeWarning: overflow encountered in exp\n",
            "  result = func(self.values, **kwargs)\n"
          ]
        },
        {
          "output_type": "execute_result",
          "data": {
            "text/plain": [
              "                                                          OR       z-value  \\\n",
              "Intercept                                                inf  0.000000e+00   \n",
              "Sex[T.M]                                            1.266665  4.860313e-10   \n",
              "Sex[T.U]                                            0.121949  5.033857e-01   \n",
              "Age_group__at_arrest_[T.Aged 17 years and younger]  2.014218  7.227914e-02   \n",
              "Age_group__at_arrest_[T.Aged 18 to 24 years]        3.349529  1.604181e-03   \n",
              "Age_group__at_arrest_[T.Aged 25 to 34 years]        3.583616  8.400449e-04   \n",
              "Age_group__at_arrest_[T.Aged 35 to 44 years]        3.735820  5.680108e-04   \n",
              "Age_group__at_arrest_[T.Aged 45 to 54 years]        2.556519  1.443334e-02   \n",
              "Age_group__at_arrest_[T.Aged 55 to 64 years]        1.938157  8.706815e-02   \n",
              "Age_group__at_arrest_[T.Aged 65 and older]          0.605121  2.448684e-01   \n",
              "Age_group__at_arrest_[T.Aged 65 years and older]    1.066670  9.182624e-01   \n",
              "Arrest_Year                                         0.070809  0.000000e+00   \n",
              "\n",
              "                                                        2.5%      97.5%  \n",
              "Intercept                                                inf        inf  \n",
              "Sex[T.M]                                            1.175793   1.364560  \n",
              "Sex[T.U]                                            0.000257  57.903423  \n",
              "Age_group__at_arrest_[T.Aged 17 years and younger]  0.938615   4.322406  \n",
              "Age_group__at_arrest_[T.Aged 18 to 24 years]        1.580760   7.097438  \n",
              "Age_group__at_arrest_[T.Aged 25 to 34 years]        1.694198   7.580169  \n",
              "Age_group__at_arrest_[T.Aged 35 to 44 years]        1.765530   7.904909  \n",
              "Age_group__at_arrest_[T.Aged 45 to 54 years]        1.205152   5.423207  \n",
              "Age_group__at_arrest_[T.Aged 55 to 64 years]        0.908231   4.136011  \n",
              "Age_group__at_arrest_[T.Aged 65 and older]          0.259513   1.410997  \n",
              "Age_group__at_arrest_[T.Aged 65 years and older]    0.310948   3.659081  \n",
              "Arrest_Year                                         0.064600   0.077614  "
            ],
            "text/html": [
              "\n",
              "  <div id=\"df-10bd100f-80d9-4d96-9e01-213909af6b9a\">\n",
              "    <div class=\"colab-df-container\">\n",
              "      <div>\n",
              "<style scoped>\n",
              "    .dataframe tbody tr th:only-of-type {\n",
              "        vertical-align: middle;\n",
              "    }\n",
              "\n",
              "    .dataframe tbody tr th {\n",
              "        vertical-align: top;\n",
              "    }\n",
              "\n",
              "    .dataframe thead th {\n",
              "        text-align: right;\n",
              "    }\n",
              "</style>\n",
              "<table border=\"1\" class=\"dataframe\">\n",
              "  <thead>\n",
              "    <tr style=\"text-align: right;\">\n",
              "      <th></th>\n",
              "      <th>OR</th>\n",
              "      <th>z-value</th>\n",
              "      <th>2.5%</th>\n",
              "      <th>97.5%</th>\n",
              "    </tr>\n",
              "  </thead>\n",
              "  <tbody>\n",
              "    <tr>\n",
              "      <th>Intercept</th>\n",
              "      <td>inf</td>\n",
              "      <td>0.000000e+00</td>\n",
              "      <td>inf</td>\n",
              "      <td>inf</td>\n",
              "    </tr>\n",
              "    <tr>\n",
              "      <th>Sex[T.M]</th>\n",
              "      <td>1.266665</td>\n",
              "      <td>4.860313e-10</td>\n",
              "      <td>1.175793</td>\n",
              "      <td>1.364560</td>\n",
              "    </tr>\n",
              "    <tr>\n",
              "      <th>Sex[T.U]</th>\n",
              "      <td>0.121949</td>\n",
              "      <td>5.033857e-01</td>\n",
              "      <td>0.000257</td>\n",
              "      <td>57.903423</td>\n",
              "    </tr>\n",
              "    <tr>\n",
              "      <th>Age_group__at_arrest_[T.Aged 17 years and younger]</th>\n",
              "      <td>2.014218</td>\n",
              "      <td>7.227914e-02</td>\n",
              "      <td>0.938615</td>\n",
              "      <td>4.322406</td>\n",
              "    </tr>\n",
              "    <tr>\n",
              "      <th>Age_group__at_arrest_[T.Aged 18 to 24 years]</th>\n",
              "      <td>3.349529</td>\n",
              "      <td>1.604181e-03</td>\n",
              "      <td>1.580760</td>\n",
              "      <td>7.097438</td>\n",
              "    </tr>\n",
              "    <tr>\n",
              "      <th>Age_group__at_arrest_[T.Aged 25 to 34 years]</th>\n",
              "      <td>3.583616</td>\n",
              "      <td>8.400449e-04</td>\n",
              "      <td>1.694198</td>\n",
              "      <td>7.580169</td>\n",
              "    </tr>\n",
              "    <tr>\n",
              "      <th>Age_group__at_arrest_[T.Aged 35 to 44 years]</th>\n",
              "      <td>3.735820</td>\n",
              "      <td>5.680108e-04</td>\n",
              "      <td>1.765530</td>\n",
              "      <td>7.904909</td>\n",
              "    </tr>\n",
              "    <tr>\n",
              "      <th>Age_group__at_arrest_[T.Aged 45 to 54 years]</th>\n",
              "      <td>2.556519</td>\n",
              "      <td>1.443334e-02</td>\n",
              "      <td>1.205152</td>\n",
              "      <td>5.423207</td>\n",
              "    </tr>\n",
              "    <tr>\n",
              "      <th>Age_group__at_arrest_[T.Aged 55 to 64 years]</th>\n",
              "      <td>1.938157</td>\n",
              "      <td>8.706815e-02</td>\n",
              "      <td>0.908231</td>\n",
              "      <td>4.136011</td>\n",
              "    </tr>\n",
              "    <tr>\n",
              "      <th>Age_group__at_arrest_[T.Aged 65 and older]</th>\n",
              "      <td>0.605121</td>\n",
              "      <td>2.448684e-01</td>\n",
              "      <td>0.259513</td>\n",
              "      <td>1.410997</td>\n",
              "    </tr>\n",
              "    <tr>\n",
              "      <th>Age_group__at_arrest_[T.Aged 65 years and older]</th>\n",
              "      <td>1.066670</td>\n",
              "      <td>9.182624e-01</td>\n",
              "      <td>0.310948</td>\n",
              "      <td>3.659081</td>\n",
              "    </tr>\n",
              "    <tr>\n",
              "      <th>Arrest_Year</th>\n",
              "      <td>0.070809</td>\n",
              "      <td>0.000000e+00</td>\n",
              "      <td>0.064600</td>\n",
              "      <td>0.077614</td>\n",
              "    </tr>\n",
              "  </tbody>\n",
              "</table>\n",
              "</div>\n",
              "      <button class=\"colab-df-convert\" onclick=\"convertToInteractive('df-10bd100f-80d9-4d96-9e01-213909af6b9a')\"\n",
              "              title=\"Convert this dataframe to an interactive table.\"\n",
              "              style=\"display:none;\">\n",
              "        \n",
              "  <svg xmlns=\"http://www.w3.org/2000/svg\" height=\"24px\"viewBox=\"0 0 24 24\"\n",
              "       width=\"24px\">\n",
              "    <path d=\"M0 0h24v24H0V0z\" fill=\"none\"/>\n",
              "    <path d=\"M18.56 5.44l.94 2.06.94-2.06 2.06-.94-2.06-.94-.94-2.06-.94 2.06-2.06.94zm-11 1L8.5 8.5l.94-2.06 2.06-.94-2.06-.94L8.5 2.5l-.94 2.06-2.06.94zm10 10l.94 2.06.94-2.06 2.06-.94-2.06-.94-.94-2.06-.94 2.06-2.06.94z\"/><path d=\"M17.41 7.96l-1.37-1.37c-.4-.4-.92-.59-1.43-.59-.52 0-1.04.2-1.43.59L10.3 9.45l-7.72 7.72c-.78.78-.78 2.05 0 2.83L4 21.41c.39.39.9.59 1.41.59.51 0 1.02-.2 1.41-.59l7.78-7.78 2.81-2.81c.8-.78.8-2.07 0-2.86zM5.41 20L4 18.59l7.72-7.72 1.47 1.35L5.41 20z\"/>\n",
              "  </svg>\n",
              "      </button>\n",
              "      \n",
              "  <style>\n",
              "    .colab-df-container {\n",
              "      display:flex;\n",
              "      flex-wrap:wrap;\n",
              "      gap: 12px;\n",
              "    }\n",
              "\n",
              "    .colab-df-convert {\n",
              "      background-color: #E8F0FE;\n",
              "      border: none;\n",
              "      border-radius: 50%;\n",
              "      cursor: pointer;\n",
              "      display: none;\n",
              "      fill: #1967D2;\n",
              "      height: 32px;\n",
              "      padding: 0 0 0 0;\n",
              "      width: 32px;\n",
              "    }\n",
              "\n",
              "    .colab-df-convert:hover {\n",
              "      background-color: #E2EBFA;\n",
              "      box-shadow: 0px 1px 2px rgba(60, 64, 67, 0.3), 0px 1px 3px 1px rgba(60, 64, 67, 0.15);\n",
              "      fill: #174EA6;\n",
              "    }\n",
              "\n",
              "    [theme=dark] .colab-df-convert {\n",
              "      background-color: #3B4455;\n",
              "      fill: #D2E3FC;\n",
              "    }\n",
              "\n",
              "    [theme=dark] .colab-df-convert:hover {\n",
              "      background-color: #434B5C;\n",
              "      box-shadow: 0px 1px 3px 1px rgba(0, 0, 0, 0.15);\n",
              "      filter: drop-shadow(0px 1px 2px rgba(0, 0, 0, 0.3));\n",
              "      fill: #FFFFFF;\n",
              "    }\n",
              "  </style>\n",
              "\n",
              "      <script>\n",
              "        const buttonEl =\n",
              "          document.querySelector('#df-10bd100f-80d9-4d96-9e01-213909af6b9a button.colab-df-convert');\n",
              "        buttonEl.style.display =\n",
              "          google.colab.kernel.accessAllowed ? 'block' : 'none';\n",
              "\n",
              "        async function convertToInteractive(key) {\n",
              "          const element = document.querySelector('#df-10bd100f-80d9-4d96-9e01-213909af6b9a');\n",
              "          const dataTable =\n",
              "            await google.colab.kernel.invokeFunction('convertToInteractive',\n",
              "                                                     [key], {});\n",
              "          if (!dataTable) return;\n",
              "\n",
              "          const docLinkHtml = 'Like what you see? Visit the ' +\n",
              "            '<a target=\"_blank\" href=https://colab.research.google.com/notebooks/data_table.ipynb>data table notebook</a>'\n",
              "            + ' to learn more about interactive tables.';\n",
              "          element.innerHTML = '';\n",
              "          dataTable['output_type'] = 'display_data';\n",
              "          await google.colab.output.renderOutput(dataTable, element);\n",
              "          const docLink = document.createElement('div');\n",
              "          docLink.innerHTML = docLinkHtml;\n",
              "          element.appendChild(docLink);\n",
              "        }\n",
              "      </script>\n",
              "    </div>\n",
              "  </div>\n",
              "  "
            ]
          },
          "metadata": {},
          "execution_count": 90
        }
      ]
    },
    {
      "cell_type": "code",
      "source": [
        "X2 = dataset1.drop(['Age_group__at_arrest_','StripSearch','Actions_at_arrest___Mental_inst'], axis=1)\n",
        "y2 = dataset1['Actions_at_arrest___Mental_inst']\n",
        "X_train2, X_test2, y_train2, y_test2 = train_test_split(X2, y2, test_size=0.2, random_state=0)\n",
        "\n",
        "import statsmodels.formula.api as smf\n",
        "formula2 = \"Actions_at_arrest___Mental_inst ~ Arrest_Year + Sex + ArrestLocDiv\" \n",
        "trainingdata2 = pd.concat([X_train2,y_train2], axis = 1)\n",
        "log_reg_2 = smf.logit(formula2, data=trainingdata2).fit()\n",
        "log_reg_2.summary()"
      ],
      "metadata": {
        "outputId": "ba0cc9b1-aaf9-4843-c207-5116a4ed239b",
        "colab": {
          "base_uri": "https://localhost:8080/",
          "height": 697
        },
        "id": "N5ktco004UPx"
      },
      "execution_count": 91,
      "outputs": [
        {
          "output_type": "stream",
          "name": "stdout",
          "text": [
            "Optimization terminated successfully.\n",
            "         Current function value: 0.139242\n",
            "         Iterations 11\n"
          ]
        },
        {
          "output_type": "execute_result",
          "data": {
            "text/plain": [
              "<class 'statsmodels.iolib.summary.Summary'>\n",
              "\"\"\"\n",
              "                                  Logit Regression Results                                 \n",
              "===========================================================================================\n",
              "Dep. Variable:     Actions_at_arrest___Mental_inst   No. Observations:                52201\n",
              "Model:                                       Logit   Df Residuals:                    52180\n",
              "Method:                                        MLE   Df Model:                           20\n",
              "Date:                             Fri, 14 Apr 2023   Pseudo R-squ.:                 0.04299\n",
              "Time:                                     22:30:02   Log-Likelihood:                -7268.6\n",
              "converged:                                    True   LL-Null:                       -7595.1\n",
              "Covariance Type:                         nonrobust   LLR p-value:                1.845e-125\n",
              "======================================================================================\n",
              "                         coef    std err          z      P>|z|      [0.025      0.975]\n",
              "--------------------------------------------------------------------------------------\n",
              "Intercept            109.4668     99.686      1.098      0.272     -85.915     304.848\n",
              "Sex[T.M]              -0.2557      0.059     -4.350      0.000      -0.371      -0.140\n",
              "Sex[T.U]               2.1265      0.896      2.374      0.018       0.371       3.882\n",
              "ArrestLocDiv[T.12]     0.3708      0.298      1.246      0.213      -0.212       0.954\n",
              "ArrestLocDiv[T.13]     0.4728      0.328      1.443      0.149      -0.169       1.115\n",
              "ArrestLocDiv[T.14]     1.4420      0.248      5.821      0.000       0.956       1.928\n",
              "ArrestLocDiv[T.22]     0.5401      0.291      1.859      0.063      -0.029       1.110\n",
              "ArrestLocDiv[T.23]     0.1448      0.319      0.454      0.650      -0.480       0.770\n",
              "ArrestLocDiv[T.31]     1.3857      0.255      5.438      0.000       0.886       1.885\n",
              "ArrestLocDiv[T.32]     0.8839      0.270      3.275      0.001       0.355       1.413\n",
              "ArrestLocDiv[T.33]     1.0287      0.303      3.395      0.001       0.435       1.623\n",
              "ArrestLocDiv[T.41]     0.5029      0.275      1.829      0.067      -0.036       1.042\n",
              "ArrestLocDiv[T.42]     0.9098      0.274      3.315      0.001       0.372       1.448\n",
              "ArrestLocDiv[T.43]     0.8163      0.265      3.080      0.002       0.297       1.336\n",
              "ArrestLocDiv[T.51]     2.1290      0.237      8.990      0.000       1.665       2.593\n",
              "ArrestLocDiv[T.52]     1.2678      0.257      4.941      0.000       0.765       1.771\n",
              "ArrestLocDiv[T.53]     1.2063      0.276      4.374      0.000       0.666       1.747\n",
              "ArrestLocDiv[T.54]     1.1897      0.273      4.354      0.000       0.654       1.725\n",
              "ArrestLocDiv[T.55]     1.2053      0.271      4.447      0.000       0.674       1.736\n",
              "ArrestLocDiv[T.XX]     0.4917      0.235      2.090      0.037       0.031       0.953\n",
              "Arrest_Year           -0.0562      0.049     -1.139      0.255      -0.153       0.040\n",
              "======================================================================================\n",
              "\"\"\""
            ],
            "text/html": [
              "<table class=\"simpletable\">\n",
              "<caption>Logit Regression Results</caption>\n",
              "<tr>\n",
              "  <th>Dep. Variable:</th>   <td>Actions_at_arrest___Mental_inst</td> <th>  No. Observations:  </th>   <td> 52201</td>  \n",
              "</tr>\n",
              "<tr>\n",
              "  <th>Model:</th>                        <td>Logit</td>              <th>  Df Residuals:      </th>   <td> 52180</td>  \n",
              "</tr>\n",
              "<tr>\n",
              "  <th>Method:</th>                        <td>MLE</td>               <th>  Df Model:          </th>   <td>    20</td>  \n",
              "</tr>\n",
              "<tr>\n",
              "  <th>Date:</th>                   <td>Fri, 14 Apr 2023</td>         <th>  Pseudo R-squ.:     </th>   <td>0.04299</td> \n",
              "</tr>\n",
              "<tr>\n",
              "  <th>Time:</th>                       <td>22:30:02</td>             <th>  Log-Likelihood:    </th>  <td> -7268.6</td> \n",
              "</tr>\n",
              "<tr>\n",
              "  <th>converged:</th>                    <td>True</td>               <th>  LL-Null:           </th>  <td> -7595.1</td> \n",
              "</tr>\n",
              "<tr>\n",
              "  <th>Covariance Type:</th>            <td>nonrobust</td>            <th>  LLR p-value:       </th> <td>1.845e-125</td>\n",
              "</tr>\n",
              "</table>\n",
              "<table class=\"simpletable\">\n",
              "<tr>\n",
              "           <td></td>             <th>coef</th>     <th>std err</th>      <th>z</th>      <th>P>|z|</th>  <th>[0.025</th>    <th>0.975]</th>  \n",
              "</tr>\n",
              "<tr>\n",
              "  <th>Intercept</th>          <td>  109.4668</td> <td>   99.686</td> <td>    1.098</td> <td> 0.272</td> <td>  -85.915</td> <td>  304.848</td>\n",
              "</tr>\n",
              "<tr>\n",
              "  <th>Sex[T.M]</th>           <td>   -0.2557</td> <td>    0.059</td> <td>   -4.350</td> <td> 0.000</td> <td>   -0.371</td> <td>   -0.140</td>\n",
              "</tr>\n",
              "<tr>\n",
              "  <th>Sex[T.U]</th>           <td>    2.1265</td> <td>    0.896</td> <td>    2.374</td> <td> 0.018</td> <td>    0.371</td> <td>    3.882</td>\n",
              "</tr>\n",
              "<tr>\n",
              "  <th>ArrestLocDiv[T.12]</th> <td>    0.3708</td> <td>    0.298</td> <td>    1.246</td> <td> 0.213</td> <td>   -0.212</td> <td>    0.954</td>\n",
              "</tr>\n",
              "<tr>\n",
              "  <th>ArrestLocDiv[T.13]</th> <td>    0.4728</td> <td>    0.328</td> <td>    1.443</td> <td> 0.149</td> <td>   -0.169</td> <td>    1.115</td>\n",
              "</tr>\n",
              "<tr>\n",
              "  <th>ArrestLocDiv[T.14]</th> <td>    1.4420</td> <td>    0.248</td> <td>    5.821</td> <td> 0.000</td> <td>    0.956</td> <td>    1.928</td>\n",
              "</tr>\n",
              "<tr>\n",
              "  <th>ArrestLocDiv[T.22]</th> <td>    0.5401</td> <td>    0.291</td> <td>    1.859</td> <td> 0.063</td> <td>   -0.029</td> <td>    1.110</td>\n",
              "</tr>\n",
              "<tr>\n",
              "  <th>ArrestLocDiv[T.23]</th> <td>    0.1448</td> <td>    0.319</td> <td>    0.454</td> <td> 0.650</td> <td>   -0.480</td> <td>    0.770</td>\n",
              "</tr>\n",
              "<tr>\n",
              "  <th>ArrestLocDiv[T.31]</th> <td>    1.3857</td> <td>    0.255</td> <td>    5.438</td> <td> 0.000</td> <td>    0.886</td> <td>    1.885</td>\n",
              "</tr>\n",
              "<tr>\n",
              "  <th>ArrestLocDiv[T.32]</th> <td>    0.8839</td> <td>    0.270</td> <td>    3.275</td> <td> 0.001</td> <td>    0.355</td> <td>    1.413</td>\n",
              "</tr>\n",
              "<tr>\n",
              "  <th>ArrestLocDiv[T.33]</th> <td>    1.0287</td> <td>    0.303</td> <td>    3.395</td> <td> 0.001</td> <td>    0.435</td> <td>    1.623</td>\n",
              "</tr>\n",
              "<tr>\n",
              "  <th>ArrestLocDiv[T.41]</th> <td>    0.5029</td> <td>    0.275</td> <td>    1.829</td> <td> 0.067</td> <td>   -0.036</td> <td>    1.042</td>\n",
              "</tr>\n",
              "<tr>\n",
              "  <th>ArrestLocDiv[T.42]</th> <td>    0.9098</td> <td>    0.274</td> <td>    3.315</td> <td> 0.001</td> <td>    0.372</td> <td>    1.448</td>\n",
              "</tr>\n",
              "<tr>\n",
              "  <th>ArrestLocDiv[T.43]</th> <td>    0.8163</td> <td>    0.265</td> <td>    3.080</td> <td> 0.002</td> <td>    0.297</td> <td>    1.336</td>\n",
              "</tr>\n",
              "<tr>\n",
              "  <th>ArrestLocDiv[T.51]</th> <td>    2.1290</td> <td>    0.237</td> <td>    8.990</td> <td> 0.000</td> <td>    1.665</td> <td>    2.593</td>\n",
              "</tr>\n",
              "<tr>\n",
              "  <th>ArrestLocDiv[T.52]</th> <td>    1.2678</td> <td>    0.257</td> <td>    4.941</td> <td> 0.000</td> <td>    0.765</td> <td>    1.771</td>\n",
              "</tr>\n",
              "<tr>\n",
              "  <th>ArrestLocDiv[T.53]</th> <td>    1.2063</td> <td>    0.276</td> <td>    4.374</td> <td> 0.000</td> <td>    0.666</td> <td>    1.747</td>\n",
              "</tr>\n",
              "<tr>\n",
              "  <th>ArrestLocDiv[T.54]</th> <td>    1.1897</td> <td>    0.273</td> <td>    4.354</td> <td> 0.000</td> <td>    0.654</td> <td>    1.725</td>\n",
              "</tr>\n",
              "<tr>\n",
              "  <th>ArrestLocDiv[T.55]</th> <td>    1.2053</td> <td>    0.271</td> <td>    4.447</td> <td> 0.000</td> <td>    0.674</td> <td>    1.736</td>\n",
              "</tr>\n",
              "<tr>\n",
              "  <th>ArrestLocDiv[T.XX]</th> <td>    0.4917</td> <td>    0.235</td> <td>    2.090</td> <td> 0.037</td> <td>    0.031</td> <td>    0.953</td>\n",
              "</tr>\n",
              "<tr>\n",
              "  <th>Arrest_Year</th>        <td>   -0.0562</td> <td>    0.049</td> <td>   -1.139</td> <td> 0.255</td> <td>   -0.153</td> <td>    0.040</td>\n",
              "</tr>\n",
              "</table>"
            ]
          },
          "metadata": {},
          "execution_count": 91
        }
      ]
    },
    {
      "cell_type": "code",
      "source": [
        "from sklearn.metrics import confusion_matrix, accuracy_score\n",
        "pred_2 = log_reg_2.predict(X_test2)\n",
        "prediction_2 = list(map(round, pred_2))\n",
        "print('\\nTest accuracy = ', accuracy_score(y_test2, prediction_2))\n",
        "cm = confusion_matrix(y_test2, prediction_2) \n",
        "print (\"\\nConfusion Matrix : \\n\", cm)"
      ],
      "metadata": {
        "outputId": "dc6ca96b-bd2d-4c89-9739-01ccdd4bffc1",
        "colab": {
          "base_uri": "https://localhost:8080/"
        },
        "id": "hTPiihGo4YPh"
      },
      "execution_count": 93,
      "outputs": [
        {
          "output_type": "stream",
          "name": "stdout",
          "text": [
            "\n",
            "Test accuracy =  0.965673128496\n",
            "\n",
            "Confusion Matrix : \n",
            " [[12603     0]\n",
            " [  448     0]]\n"
          ]
        }
      ]
    },
    {
      "cell_type": "code",
      "source": [
        "model_odds2 = pd.DataFrame(np.exp(log_reg_2.params), columns= ['OR'])\n",
        "model_odds2['z-value']= log_reg_2.pvalues\n",
        "model_odds2[['2.5%', '97.5%']] = np.exp(log_reg_2.conf_int())\n",
        "model_odds2"
      ],
      "metadata": {
        "outputId": "4eb9220d-4c56-4c58-a704-1c7363eafc46",
        "colab": {
          "base_uri": "https://localhost:8080/",
          "height": 708
        },
        "id": "fY3A_A9G4eHQ"
      },
      "execution_count": 94,
      "outputs": [
        {
          "output_type": "execute_result",
          "data": {
            "text/plain": [
              "                              OR       z-value          2.5%          97.5%\n",
              "Intercept           3.474086e+47  2.721550e-01  4.872271e-38  2.477135e+132\n",
              "Sex[T.M]            7.743658e-01  1.361333e-05  6.900953e-01   8.689268e-01\n",
              "Sex[T.U]            8.385699e+00  1.760117e-02  1.448899e+00   4.853336e+01\n",
              "ArrestLocDiv[T.12]  1.448830e+00  2.126889e-01  8.086825e-01   2.595715e+00\n",
              "ArrestLocDiv[T.13]  1.604421e+00  1.488804e-01  8.443831e-01   3.048576e+00\n",
              "ArrestLocDiv[T.14]  4.229160e+00  5.842052e-09  2.602547e+00   6.872417e+00\n",
              "ArrestLocDiv[T.22]  1.716145e+00  6.303820e-02  9.710705e-01   3.032893e+00\n",
              "ArrestLocDiv[T.23]  1.155809e+00  6.498178e-01  6.185998e-01   2.159545e+00\n",
              "ArrestLocDiv[T.31]  3.997732e+00  5.390043e-08  2.426082e+00   6.587518e+00\n",
              "ArrestLocDiv[T.32]  2.420308e+00  1.056758e-03  1.426054e+00   4.107763e+00\n",
              "ArrestLocDiv[T.33]  2.797482e+00  6.852215e-04  1.544816e+00   5.065913e+00\n",
              "ArrestLocDiv[T.41]  1.653533e+00  6.734474e-02  9.647340e-01   2.834120e+00\n",
              "ArrestLocDiv[T.42]  2.483922e+00  9.175872e-04  1.450412e+00   4.253874e+00\n",
              "ArrestLocDiv[T.43]  2.262176e+00  2.070439e-03  1.345607e+00   3.803071e+00\n",
              "ArrestLocDiv[T.51]  8.406534e+00  2.475256e-19  5.284851e+00   1.337215e+01\n",
              "ArrestLocDiv[T.52]  3.553160e+00  7.753782e-07  2.148924e+00   5.875010e+00\n",
              "ArrestLocDiv[T.53]  3.341207e+00  1.221810e-05  1.945929e+00   5.736932e+00\n",
              "ArrestLocDiv[T.54]  3.286197e+00  1.339533e-05  1.923439e+00   5.614469e+00\n",
              "ArrestLocDiv[T.55]  3.337614e+00  8.700932e-06  1.962214e+00   5.677090e+00\n",
              "ArrestLocDiv[T.XX]  1.635061e+00  3.661985e-02  1.031059e+00   2.592891e+00\n",
              "Arrest_Year         9.453385e-01  2.545631e-01  8.582050e-01   1.041319e+00"
            ],
            "text/html": [
              "\n",
              "  <div id=\"df-ef9e1424-9fd2-460e-814c-057efd4d44f2\">\n",
              "    <div class=\"colab-df-container\">\n",
              "      <div>\n",
              "<style scoped>\n",
              "    .dataframe tbody tr th:only-of-type {\n",
              "        vertical-align: middle;\n",
              "    }\n",
              "\n",
              "    .dataframe tbody tr th {\n",
              "        vertical-align: top;\n",
              "    }\n",
              "\n",
              "    .dataframe thead th {\n",
              "        text-align: right;\n",
              "    }\n",
              "</style>\n",
              "<table border=\"1\" class=\"dataframe\">\n",
              "  <thead>\n",
              "    <tr style=\"text-align: right;\">\n",
              "      <th></th>\n",
              "      <th>OR</th>\n",
              "      <th>z-value</th>\n",
              "      <th>2.5%</th>\n",
              "      <th>97.5%</th>\n",
              "    </tr>\n",
              "  </thead>\n",
              "  <tbody>\n",
              "    <tr>\n",
              "      <th>Intercept</th>\n",
              "      <td>3.474086e+47</td>\n",
              "      <td>2.721550e-01</td>\n",
              "      <td>4.872271e-38</td>\n",
              "      <td>2.477135e+132</td>\n",
              "    </tr>\n",
              "    <tr>\n",
              "      <th>Sex[T.M]</th>\n",
              "      <td>7.743658e-01</td>\n",
              "      <td>1.361333e-05</td>\n",
              "      <td>6.900953e-01</td>\n",
              "      <td>8.689268e-01</td>\n",
              "    </tr>\n",
              "    <tr>\n",
              "      <th>Sex[T.U]</th>\n",
              "      <td>8.385699e+00</td>\n",
              "      <td>1.760117e-02</td>\n",
              "      <td>1.448899e+00</td>\n",
              "      <td>4.853336e+01</td>\n",
              "    </tr>\n",
              "    <tr>\n",
              "      <th>ArrestLocDiv[T.12]</th>\n",
              "      <td>1.448830e+00</td>\n",
              "      <td>2.126889e-01</td>\n",
              "      <td>8.086825e-01</td>\n",
              "      <td>2.595715e+00</td>\n",
              "    </tr>\n",
              "    <tr>\n",
              "      <th>ArrestLocDiv[T.13]</th>\n",
              "      <td>1.604421e+00</td>\n",
              "      <td>1.488804e-01</td>\n",
              "      <td>8.443831e-01</td>\n",
              "      <td>3.048576e+00</td>\n",
              "    </tr>\n",
              "    <tr>\n",
              "      <th>ArrestLocDiv[T.14]</th>\n",
              "      <td>4.229160e+00</td>\n",
              "      <td>5.842052e-09</td>\n",
              "      <td>2.602547e+00</td>\n",
              "      <td>6.872417e+00</td>\n",
              "    </tr>\n",
              "    <tr>\n",
              "      <th>ArrestLocDiv[T.22]</th>\n",
              "      <td>1.716145e+00</td>\n",
              "      <td>6.303820e-02</td>\n",
              "      <td>9.710705e-01</td>\n",
              "      <td>3.032893e+00</td>\n",
              "    </tr>\n",
              "    <tr>\n",
              "      <th>ArrestLocDiv[T.23]</th>\n",
              "      <td>1.155809e+00</td>\n",
              "      <td>6.498178e-01</td>\n",
              "      <td>6.185998e-01</td>\n",
              "      <td>2.159545e+00</td>\n",
              "    </tr>\n",
              "    <tr>\n",
              "      <th>ArrestLocDiv[T.31]</th>\n",
              "      <td>3.997732e+00</td>\n",
              "      <td>5.390043e-08</td>\n",
              "      <td>2.426082e+00</td>\n",
              "      <td>6.587518e+00</td>\n",
              "    </tr>\n",
              "    <tr>\n",
              "      <th>ArrestLocDiv[T.32]</th>\n",
              "      <td>2.420308e+00</td>\n",
              "      <td>1.056758e-03</td>\n",
              "      <td>1.426054e+00</td>\n",
              "      <td>4.107763e+00</td>\n",
              "    </tr>\n",
              "    <tr>\n",
              "      <th>ArrestLocDiv[T.33]</th>\n",
              "      <td>2.797482e+00</td>\n",
              "      <td>6.852215e-04</td>\n",
              "      <td>1.544816e+00</td>\n",
              "      <td>5.065913e+00</td>\n",
              "    </tr>\n",
              "    <tr>\n",
              "      <th>ArrestLocDiv[T.41]</th>\n",
              "      <td>1.653533e+00</td>\n",
              "      <td>6.734474e-02</td>\n",
              "      <td>9.647340e-01</td>\n",
              "      <td>2.834120e+00</td>\n",
              "    </tr>\n",
              "    <tr>\n",
              "      <th>ArrestLocDiv[T.42]</th>\n",
              "      <td>2.483922e+00</td>\n",
              "      <td>9.175872e-04</td>\n",
              "      <td>1.450412e+00</td>\n",
              "      <td>4.253874e+00</td>\n",
              "    </tr>\n",
              "    <tr>\n",
              "      <th>ArrestLocDiv[T.43]</th>\n",
              "      <td>2.262176e+00</td>\n",
              "      <td>2.070439e-03</td>\n",
              "      <td>1.345607e+00</td>\n",
              "      <td>3.803071e+00</td>\n",
              "    </tr>\n",
              "    <tr>\n",
              "      <th>ArrestLocDiv[T.51]</th>\n",
              "      <td>8.406534e+00</td>\n",
              "      <td>2.475256e-19</td>\n",
              "      <td>5.284851e+00</td>\n",
              "      <td>1.337215e+01</td>\n",
              "    </tr>\n",
              "    <tr>\n",
              "      <th>ArrestLocDiv[T.52]</th>\n",
              "      <td>3.553160e+00</td>\n",
              "      <td>7.753782e-07</td>\n",
              "      <td>2.148924e+00</td>\n",
              "      <td>5.875010e+00</td>\n",
              "    </tr>\n",
              "    <tr>\n",
              "      <th>ArrestLocDiv[T.53]</th>\n",
              "      <td>3.341207e+00</td>\n",
              "      <td>1.221810e-05</td>\n",
              "      <td>1.945929e+00</td>\n",
              "      <td>5.736932e+00</td>\n",
              "    </tr>\n",
              "    <tr>\n",
              "      <th>ArrestLocDiv[T.54]</th>\n",
              "      <td>3.286197e+00</td>\n",
              "      <td>1.339533e-05</td>\n",
              "      <td>1.923439e+00</td>\n",
              "      <td>5.614469e+00</td>\n",
              "    </tr>\n",
              "    <tr>\n",
              "      <th>ArrestLocDiv[T.55]</th>\n",
              "      <td>3.337614e+00</td>\n",
              "      <td>8.700932e-06</td>\n",
              "      <td>1.962214e+00</td>\n",
              "      <td>5.677090e+00</td>\n",
              "    </tr>\n",
              "    <tr>\n",
              "      <th>ArrestLocDiv[T.XX]</th>\n",
              "      <td>1.635061e+00</td>\n",
              "      <td>3.661985e-02</td>\n",
              "      <td>1.031059e+00</td>\n",
              "      <td>2.592891e+00</td>\n",
              "    </tr>\n",
              "    <tr>\n",
              "      <th>Arrest_Year</th>\n",
              "      <td>9.453385e-01</td>\n",
              "      <td>2.545631e-01</td>\n",
              "      <td>8.582050e-01</td>\n",
              "      <td>1.041319e+00</td>\n",
              "    </tr>\n",
              "  </tbody>\n",
              "</table>\n",
              "</div>\n",
              "      <button class=\"colab-df-convert\" onclick=\"convertToInteractive('df-ef9e1424-9fd2-460e-814c-057efd4d44f2')\"\n",
              "              title=\"Convert this dataframe to an interactive table.\"\n",
              "              style=\"display:none;\">\n",
              "        \n",
              "  <svg xmlns=\"http://www.w3.org/2000/svg\" height=\"24px\"viewBox=\"0 0 24 24\"\n",
              "       width=\"24px\">\n",
              "    <path d=\"M0 0h24v24H0V0z\" fill=\"none\"/>\n",
              "    <path d=\"M18.56 5.44l.94 2.06.94-2.06 2.06-.94-2.06-.94-.94-2.06-.94 2.06-2.06.94zm-11 1L8.5 8.5l.94-2.06 2.06-.94-2.06-.94L8.5 2.5l-.94 2.06-2.06.94zm10 10l.94 2.06.94-2.06 2.06-.94-2.06-.94-.94-2.06-.94 2.06-2.06.94z\"/><path d=\"M17.41 7.96l-1.37-1.37c-.4-.4-.92-.59-1.43-.59-.52 0-1.04.2-1.43.59L10.3 9.45l-7.72 7.72c-.78.78-.78 2.05 0 2.83L4 21.41c.39.39.9.59 1.41.59.51 0 1.02-.2 1.41-.59l7.78-7.78 2.81-2.81c.8-.78.8-2.07 0-2.86zM5.41 20L4 18.59l7.72-7.72 1.47 1.35L5.41 20z\"/>\n",
              "  </svg>\n",
              "      </button>\n",
              "      \n",
              "  <style>\n",
              "    .colab-df-container {\n",
              "      display:flex;\n",
              "      flex-wrap:wrap;\n",
              "      gap: 12px;\n",
              "    }\n",
              "\n",
              "    .colab-df-convert {\n",
              "      background-color: #E8F0FE;\n",
              "      border: none;\n",
              "      border-radius: 50%;\n",
              "      cursor: pointer;\n",
              "      display: none;\n",
              "      fill: #1967D2;\n",
              "      height: 32px;\n",
              "      padding: 0 0 0 0;\n",
              "      width: 32px;\n",
              "    }\n",
              "\n",
              "    .colab-df-convert:hover {\n",
              "      background-color: #E2EBFA;\n",
              "      box-shadow: 0px 1px 2px rgba(60, 64, 67, 0.3), 0px 1px 3px 1px rgba(60, 64, 67, 0.15);\n",
              "      fill: #174EA6;\n",
              "    }\n",
              "\n",
              "    [theme=dark] .colab-df-convert {\n",
              "      background-color: #3B4455;\n",
              "      fill: #D2E3FC;\n",
              "    }\n",
              "\n",
              "    [theme=dark] .colab-df-convert:hover {\n",
              "      background-color: #434B5C;\n",
              "      box-shadow: 0px 1px 3px 1px rgba(0, 0, 0, 0.15);\n",
              "      filter: drop-shadow(0px 1px 2px rgba(0, 0, 0, 0.3));\n",
              "      fill: #FFFFFF;\n",
              "    }\n",
              "  </style>\n",
              "\n",
              "      <script>\n",
              "        const buttonEl =\n",
              "          document.querySelector('#df-ef9e1424-9fd2-460e-814c-057efd4d44f2 button.colab-df-convert');\n",
              "        buttonEl.style.display =\n",
              "          google.colab.kernel.accessAllowed ? 'block' : 'none';\n",
              "\n",
              "        async function convertToInteractive(key) {\n",
              "          const element = document.querySelector('#df-ef9e1424-9fd2-460e-814c-057efd4d44f2');\n",
              "          const dataTable =\n",
              "            await google.colab.kernel.invokeFunction('convertToInteractive',\n",
              "                                                     [key], {});\n",
              "          if (!dataTable) return;\n",
              "\n",
              "          const docLinkHtml = 'Like what you see? Visit the ' +\n",
              "            '<a target=\"_blank\" href=https://colab.research.google.com/notebooks/data_table.ipynb>data table notebook</a>'\n",
              "            + ' to learn more about interactive tables.';\n",
              "          element.innerHTML = '';\n",
              "          dataTable['output_type'] = 'display_data';\n",
              "          await google.colab.output.renderOutput(dataTable, element);\n",
              "          const docLink = document.createElement('div');\n",
              "          docLink.innerHTML = docLinkHtml;\n",
              "          element.appendChild(docLink);\n",
              "        }\n",
              "      </script>\n",
              "    </div>\n",
              "  </div>\n",
              "  "
            ]
          },
          "metadata": {},
          "execution_count": 94
        }
      ]
    }
  ]
}